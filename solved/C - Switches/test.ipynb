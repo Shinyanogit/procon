{
 "cells": [
  {
   "cell_type": "code",
   "execution_count": 21,
   "source": [
    "list(set(\"dlgfkqeoufawhoihogna\"))"
   ],
   "outputs": [
    {
     "output_type": "execute_result",
     "data": {
      "text/plain": [
       "['l', 'f', 'n', 'h', 'a', 'q', 'd', 'g', 'w', 'u', 'k', 'o', 'e', 'i']"
      ]
     },
     "metadata": {},
     "execution_count": 21
    }
   ],
   "metadata": {}
  },
  {
   "cell_type": "code",
   "execution_count": 20,
   "source": [
    "ord(\"a\")"
   ],
   "outputs": [
    {
     "output_type": "execute_result",
     "data": {
      "text/plain": [
       "97"
      ]
     },
     "metadata": {},
     "execution_count": 20
    }
   ],
   "metadata": {}
  },
  {
   "cell_type": "code",
   "execution_count": 25,
   "source": [
    "list(set(\"\")).sort()"
   ],
   "outputs": [],
   "metadata": {}
  },
  {
   "cell_type": "code",
   "execution_count": 22,
   "source": [
    "list(range(3,2))"
   ],
   "outputs": [
    {
     "output_type": "execute_result",
     "data": {
      "text/plain": [
       "[]"
      ]
     },
     "metadata": {},
     "execution_count": 22
    }
   ],
   "metadata": {}
  },
  {
   "cell_type": "code",
   "execution_count": 17,
   "source": [
    "n,m=(2,2)\n",
    "ramp=[0,1]#ランプの初期状態(0で発光)\n",
    "k_s_list=[[2,1,2],\n",
    "          [1,2]]\n",
    "i=3\n",
    "counter=0\n",
    "for j in range(n):#j番目のボタンを反映させる\n",
    "    if ((i>>j) & 1):#j番目が押されている時\n",
    "        print(j)\n",
    "        for ramp_num in range(len(k_s_list)):#ramp_num番目のランプを反転させる？\n",
    "            k_s=k_s_list[ramp_num]\n",
    "            if j+1 in k_s[1:]:\n",
    "                ramp[ramp_num]=(ramp[ramp_num]+1)%2#ランプを反転\n",
    "                print(\"i:\",i)\n",
    "                print(\"j\",j)\n",
    "                print(\"ramp_num\",ramp_num)\n",
    "                print(\"switched\")\n",
    "print(ramp)\n",
    "if 1 not in ramp:\n",
    "    counter+=1\n",
    "print(counter)"
   ],
   "outputs": [
    {
     "output_type": "stream",
     "name": "stdout",
     "text": [
      "0\n",
      "i: 3\n",
      "j 0\n",
      "ramp_num 0\n",
      "switched\n",
      "1\n",
      "i: 3\n",
      "j 1\n",
      "ramp_num 0\n",
      "switched\n",
      "i: 3\n",
      "j 1\n",
      "ramp_num 1\n",
      "switched\n",
      "[0, 0]\n",
      "1\n"
     ]
    }
   ],
   "metadata": {}
  },
  {
   "cell_type": "code",
   "execution_count": 14,
   "source": [
    "if ((2>>0) & 1):\n",
    "    print(\"a\")"
   ],
   "outputs": [],
   "metadata": {}
  },
  {
   "cell_type": "code",
   "execution_count": null,
   "source": [
    "def print_answer(text):\n",
    "    if len(text)==n:\n",
    "        if \"a\" in text:\n",
    "            print(text)\n",
    "    else:\n",
    "        used_alphabet=list(set(text))\n",
    "        for alphabet in sorted(list(set(used_alphabet+[chr(num) for num in range(ord(max(text+\"a\")),123)]))):\n",
    "            print_answer(text+alphabet)"
   ],
   "outputs": [],
   "metadata": {}
  },
  {
   "cell_type": "code",
   "execution_count": 30,
   "source": [
    "text=\"z\"\n",
    "used_alphabet=list(set(text))\n",
    "print(sorted(list(set(used_alphabet+[chr(num) for num in range(ord(max(text+\"a\")),123)]))))\n",
    "for alphabet in sorted(list(set(used_alphabet+[chr(num) for num in range(ord(max(text+\"a\")),123)]))):\n",
    "    print(text+alphabet)"
   ],
   "outputs": [
    {
     "output_type": "stream",
     "name": "stdout",
     "text": [
      "['z']\n",
      "zz\n"
     ]
    }
   ],
   "metadata": {}
  }
 ],
 "metadata": {
  "orig_nbformat": 4,
  "language_info": {
   "name": "python",
   "version": "3.8.8",
   "mimetype": "text/x-python",
   "codemirror_mode": {
    "name": "ipython",
    "version": 3
   },
   "pygments_lexer": "ipython3",
   "nbconvert_exporter": "python",
   "file_extension": ".py"
  },
  "kernelspec": {
   "name": "python3",
   "display_name": "Python 3.8.8 64-bit ('base': conda)"
  },
  "interpreter": {
   "hash": "dca0ade3e726a953b501b15e8e990130d2b7799f14cfd9f4271676035ebe5511"
  }
 },
 "nbformat": 4,
 "nbformat_minor": 2
}