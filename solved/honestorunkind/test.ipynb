{
 "cells": [
  {
   "cell_type": "code",
   "execution_count": 34,
   "source": [
    "personal_infos=[[(2,1)],[(1,1)],[(2,0)]]\n",
    "n=3\n",
    "max=0"
   ],
   "outputs": [],
   "metadata": {}
  },
  {
   "cell_type": "code",
   "execution_count": 35,
   "source": [
    "i=7\n",
    "honest_or_not_list=[((i>>j)&1) for j in range(n)]\n",
    "# print(honest_or_not_list)\n",
    "flag=True\n",
    "for j in range(n):\n",
    "    if honest_or_not_list[j]&flag:#j人目の人が正直者であれば\n",
    "        print(\"really?\",j)\n",
    "        for x,y in personal_infos[j]:#j人目の人の証言をチェック\n",
    "            print(x,y,honest_or_not_list)\n",
    "            if honest_or_not_list[x-1]!=y:#嘘はあるかな\n",
    "                print(\"liar!\")\n",
    "                flag=False\n",
    "                break\n",
    "    if not flag:\n",
    "        break\n",
    "print(honest_or_not_list)\n",
    "honest_sum=sum(honest_or_not_list)\n",
    "if honest_sum>max and flag:\n",
    "    max=honest_sum\n",
    "print(max)"
   ],
   "outputs": [
    {
     "output_type": "stream",
     "name": "stdout",
     "text": [
      "really? 0\n",
      "2 1 [1, 1, 1]\n",
      "really? 1\n",
      "1 1 [1, 1, 1]\n",
      "really? 2\n",
      "2 0 [1, 1, 1]\n",
      "liar!\n",
      "[1, 1, 1]\n",
      "0\n"
     ]
    }
   ],
   "metadata": {}
  },
  {
   "cell_type": "code",
   "execution_count": 37,
   "source": [
    "\"hgjkl\".split(\"\")"
   ],
   "outputs": [
    {
     "output_type": "error",
     "ename": "ValueError",
     "evalue": "empty separator",
     "traceback": [
      "\u001b[0;31m---------------------------------------------------------------------------\u001b[0m",
      "\u001b[0;31mValueError\u001b[0m                                Traceback (most recent call last)",
      "\u001b[0;32m<ipython-input-37-92f9f84f750f>\u001b[0m in \u001b[0;36m<module>\u001b[0;34m\u001b[0m\n\u001b[0;32m----> 1\u001b[0;31m \u001b[0;34m\"hgjkl\"\u001b[0m\u001b[0;34m.\u001b[0m\u001b[0msplit\u001b[0m\u001b[0;34m(\u001b[0m\u001b[0;34m\"\"\u001b[0m\u001b[0;34m)\u001b[0m\u001b[0;34m\u001b[0m\u001b[0;34m\u001b[0m\u001b[0m\n\u001b[0m",
      "\u001b[0;31mValueError\u001b[0m: empty separator"
     ]
    }
   ],
   "metadata": {}
  }
 ],
 "metadata": {
  "orig_nbformat": 4,
  "language_info": {
   "name": "python",
   "version": "3.8.8",
   "mimetype": "text/x-python",
   "codemirror_mode": {
    "name": "ipython",
    "version": 3
   },
   "pygments_lexer": "ipython3",
   "nbconvert_exporter": "python",
   "file_extension": ".py"
  },
  "kernelspec": {
   "name": "python3",
   "display_name": "Python 3.8.8 64-bit ('base': conda)"
  },
  "interpreter": {
   "hash": "dca0ade3e726a953b501b15e8e990130d2b7799f14cfd9f4271676035ebe5511"
  }
 },
 "nbformat": 4,
 "nbformat_minor": 2
}