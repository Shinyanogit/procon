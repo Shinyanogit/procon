{
 "cells": [
  {
   "cell_type": "code",
   "execution_count": 2,
   "metadata": {},
   "outputs": [],
   "source": [
    "\n",
    "import os"
   ]
  },
  {
   "cell_type": "code",
   "execution_count": 3,
   "metadata": {},
   "outputs": [
    {
     "name": "stdout",
     "output_type": "stream",
     "text": [
      "\u001b[0;31mSignature:\u001b[0m \u001b[0mos\u001b[0m\u001b[0;34m.\u001b[0m\u001b[0mmakedirs\u001b[0m\u001b[0;34m(\u001b[0m\u001b[0mname\u001b[0m\u001b[0;34m,\u001b[0m \u001b[0mmode\u001b[0m\u001b[0;34m=\u001b[0m\u001b[0;36m511\u001b[0m\u001b[0;34m,\u001b[0m \u001b[0mexist_ok\u001b[0m\u001b[0;34m=\u001b[0m\u001b[0;32mFalse\u001b[0m\u001b[0;34m)\u001b[0m\u001b[0;34m\u001b[0m\u001b[0;34m\u001b[0m\u001b[0m\n",
      "\u001b[0;31mDocstring:\u001b[0m\n",
      "makedirs(name [, mode=0o777][, exist_ok=False])\n",
      "\n",
      "Super-mkdir; create a leaf directory and all intermediate ones.  Works like\n",
      "mkdir, except that any intermediate path segment (not just the rightmost)\n",
      "will be created if it does not exist. If the target directory already\n",
      "exists, raise an OSError if exist_ok is False. Otherwise no exception is\n",
      "raised.  This is recursive.\n",
      "\u001b[0;31mFile:\u001b[0m      /opt/homebrew/Cellar/python@3.9/3.9.13_1/Frameworks/Python.framework/Versions/3.9/lib/python3.9/os.py\n",
      "\u001b[0;31mType:\u001b[0m      function\n"
     ]
    }
   ],
   "source": [
    "os.makedirs?"
   ]
  },
  {
   "cell_type": "code",
   "execution_count": 5,
   "metadata": {},
   "outputs": [],
   "source": [
    "for i in range(100):\n",
    "    os.makedirs(f\"question{i+1}\")\n",
    "    os.chdir(f\"question{i+1}\")\n",
    "    f=open(\"solve.py\",mode=\"w\")\n",
    "    f.close()\n",
    "    os.chdir(\"..\")"
   ]
  },
  {
   "cell_type": "code",
   "execution_count": 9,
   "metadata": {},
   "outputs": [
    {
     "data": {
      "text/plain": [
       "['.ipynb_checkpoints', 'test.ipynb']"
      ]
     },
     "execution_count": 9,
     "metadata": {},
     "output_type": "execute_result"
    }
   ],
   "source": [
    "os.listdir()"
   ]
  },
  {
   "cell_type": "code",
   "execution_count": 7,
   "metadata": {},
   "outputs": [
    {
     "data": {
      "text/plain": [
       "'/Users/shinyyama/.Trash/question1'"
      ]
     },
     "execution_count": 7,
     "metadata": {},
     "output_type": "execute_result"
    }
   ],
   "source": [
    "os.getcwd()"
   ]
  },
  {
   "cell_type": "code",
   "execution_count": 8,
   "metadata": {},
   "outputs": [],
   "source": [
    "os.chdir(\"/Users/shinyyama/Documents/python/kyoupro/unsolved/100問\")"
   ]
  },
  {
   "cell_type": "code",
   "execution_count": 3,
   "metadata": {},
   "outputs": [
    {
     "ename": "ModuleNotFoundError",
     "evalue": "No module named 'bs4'",
     "output_type": "error",
     "traceback": [
      "\u001b[0;31m---------------------------------------------------------------------------\u001b[0m",
      "\u001b[0;31mModuleNotFoundError\u001b[0m                       Traceback (most recent call last)",
      "\u001b[1;32m/Users/shinyyama/Documents/python/kyoupro/unsolved/100問/test.ipynb Cell 7\u001b[0m in \u001b[0;36m<cell line: 2>\u001b[0;34m()\u001b[0m\n\u001b[1;32m      <a href='vscode-notebook-cell:/Users/shinyyama/Documents/python/kyoupro/unsolved/100%E5%95%8F/test.ipynb#ch0000006?line=0'>1</a>\u001b[0m \u001b[39mimport\u001b[39;00m \u001b[39mrequests\u001b[39;00m\n\u001b[0;32m----> <a href='vscode-notebook-cell:/Users/shinyyama/Documents/python/kyoupro/unsolved/100%E5%95%8F/test.ipynb#ch0000006?line=1'>2</a>\u001b[0m \u001b[39mfrom\u001b[39;00m \u001b[39mbs4\u001b[39;00m \u001b[39mimport\u001b[39;00m BeautifulSoup\n\u001b[1;32m      <a href='vscode-notebook-cell:/Users/shinyyama/Documents/python/kyoupro/unsolved/100%E5%95%8F/test.ipynb#ch0000006?line=2'>3</a>\u001b[0m \u001b[39mimport\u001b[39;00m \u001b[39mtime\u001b[39;00m\n\u001b[1;32m      <a href='vscode-notebook-cell:/Users/shinyyama/Documents/python/kyoupro/unsolved/100%E5%95%8F/test.ipynb#ch0000006?line=3'>4</a>\u001b[0m \u001b[39mimport\u001b[39;00m \u001b[39mrandom\u001b[39;00m\n",
      "\u001b[0;31mModuleNotFoundError\u001b[0m: No module named 'bs4'"
     ]
    }
   ],
   "source": [
    "\n",
    "import requests\n",
    "from bs4 import BeautifulSoup\n",
    "import time\n",
    "import random\n",
    "import pandas as pd\n",
    "import time\n",
    "import datetime\n",
    "\n",
    "class Scrape():\n",
    "\n",
    "    def __init__(self,wait=1,max=None):\n",
    "        self.response = None\n",
    "        self.df = pd.DataFrame()\n",
    "        self.wait = wait\n",
    "        self.max = max\n",
    "        self.headers = {\"User-Agent\": \"Mozilla/5.0 (Windows NT 10.0; Win64; x64) AppleWebKit/537.36 (KHTML, like Gecko) Chrome/77.0.3865.120 Safari/537.36\"}\n",
    "        self.timeout = 5\n",
    "\n",
    "    def request(self,url,wait=None,max=None,console=True):\n",
    "        '''\n",
    "        指定したURLからページを取得する。\n",
    "        取得後にwaitで指定された秒数だけ待機する。\n",
    "        max が指定された場合、waitが最小値、maxが最大値の間でランダムに待機する。\n",
    "\n",
    "        Params\n",
    "        ---------------------\n",
    "        url:str\n",
    "            URL\n",
    "        wait:int\n",
    "            ウェイト秒\n",
    "        max:int\n",
    "            ウェイト秒の最大値\n",
    "        console:bool\n",
    "            状況をコンソール出力するか\n",
    "        Returns\n",
    "        ---------------------\n",
    "        soup:BeautifulSoupの戻り値\n",
    "        '''\n",
    "        self.wait = self.wait if wait is None else wait\n",
    "        self.max = self.max if max is None else max\n",
    "\n",
    "        start = time.time()     \n",
    "        response = requests.get(url,headers=self.headers,timeout = self.timeout)\n",
    "        time.sleep(random.randint(self.wait,self.wait if self.max is None else self.max))\n",
    "        \n",
    "        if console:\n",
    "            tm = datetime.datetime.now().strftime('%Y/%m/%d %H:%M:%S')\n",
    "            lap = time.time() - start\n",
    "            print(f'{tm} : {url}  経過時間 : {lap:.3f} 秒')\n",
    "\n",
    "        return BeautifulSoup(response.content, \"html.parser\")\n",
    "      \n",
    "    def get_href(self,soup,contains = None):\n",
    "        '''\n",
    "        soupの中からアンカータグを検索し、空でないurlをリストで返す\n",
    "        containsが指定された場合、更にその文字列が含まれるurlだけを返す\n",
    "\n",
    "        Params\n",
    "        ---------------------\n",
    "        soup:str\n",
    "            BeautifulSoupの戻り値\n",
    "        contains:str\n",
    "            抽出条件となる文字列            \n",
    "\n",
    "        Returns\n",
    "        ---------------------\n",
    "        return :[str]\n",
    "            条件を満たすurlのリスト\n",
    "        '''\n",
    "        urls = list(set([url.get('href') for url in soup.find_all('a')]))\n",
    "        if contains is not None:\n",
    "           return [url for url in urls if self.contains(url,contains)]\n",
    "        return [url for url in urls if urls is not None or urls.strip() != '']\n",
    "\n",
    "    def get_src(self,soup,contains = None):\n",
    "        '''\n",
    "        soupの中からimgタグを検索し、空でないsrcをリストで返す\n",
    "        containsが指定された場合、更にその文字列が含まれるurlだけを返す\n",
    "\n",
    "        Params\n",
    "        ---------------------\n",
    "        soup:str\n",
    "            BeautifulSoupの戻り値\n",
    "        contains:str\n",
    "            抽出条件となる文字列            \n",
    "\n",
    "        Returns\n",
    "        ---------------------\n",
    "        return :[str]\n",
    "            条件を満たすurlのリスト\n",
    "        '''\n",
    "        urls = list(set([url.get('src') for url in soup.find_all('img')]))\n",
    "        if contains is not None:\n",
    "           return [url for url in urls if contains(url,self.contains)]\n",
    "        return [url for url in urls if urls is not None or urls.strip() != '']\n",
    "\n",
    "    def contains(self,line,kwd):\n",
    "        '''\n",
    "        line に kwd が含まれているかチェックする。\n",
    "        line が None か '' の場合、或いは kwd が None 又は '' の場合は Trueを返す。\n",
    "\n",
    "        Params\n",
    "        ---------------------      \n",
    "        line:str\n",
    "            HTMLの文字列\n",
    "        contains:str\n",
    "            抽出条件となる文字列            \n",
    "\n",
    "        Returns\n",
    "        ---------------------\n",
    "        return :[str]\n",
    "            条件を満たすurlのリスト\n",
    "        '''\n",
    "        if line is None or line.strip() == '':\n",
    "            return False\n",
    "        if kwd is None or kwd == '':\n",
    "            return True\n",
    "        return kwd in line \n",
    "    \n",
    "       \n",
    "    def omit_char(self,values,omits):\n",
    "        '''\n",
    "        リストで指定した文字、又は文字列を削除する\n",
    "\n",
    "        Params\n",
    "        ---------------------      \n",
    "        values:str\n",
    "            対象文字列\n",
    "        omits:str\n",
    "            削除したい文字、又は文字列            \n",
    "\n",
    "        Returns\n",
    "        ---------------------\n",
    "        return :str\n",
    "            不要な文字を削除した文字列\n",
    "        '''\n",
    "        for n in range(len(values)):\n",
    "            for omit in omits:\n",
    "                values[n] = values[n].replace(omit,'')\n",
    "        return values\n",
    "\n",
    "    def add_df(self,values,columns,omits = None):\n",
    "        '''\n",
    "        指定した値を　DataFrame に行として追加する\n",
    "        omits に削除したい文字列をリストで指定可能\n",
    "\n",
    "        Params\n",
    "        ---------------------      \n",
    "        values:[str]\n",
    "            列名\n",
    "        omits:[str]\n",
    "            削除したい文字、又は文字列            \n",
    "        '''\n",
    "        if omits is not None:\n",
    "            values = self.omit_char(values,omits)\n",
    "            columns = self.omit_char(columns,omits)\n",
    "        \n",
    "        df = pd.DataFrame(values,index=self.rename_column(columns))\n",
    "        self.df = pd.concat([self.df,df.T])\n",
    "   \n",
    "    def to_csv(self,filename,dropcolumns=None):\n",
    "        '''\n",
    "        DataFrame をCSVとして出力する\n",
    "        dropcolumns に削除したい列をリストで指定可能\n",
    "\n",
    "        Params\n",
    "        ---------------------      \n",
    "        filename:str\n",
    "            ファイル名\n",
    "        dropcolumns:[str]\n",
    "            削除したい列名            \n",
    "        '''\n",
    "        if dropcolumns is not None:\n",
    "            self.df.drop(dropcolumns,axis=1,inplace=True) \n",
    "        self.df.to_csv(filename,index=False,encoding=\"shift-jis\",errors=\"ignore\")\n",
    "    \n",
    "    def get_text(self,soup):\n",
    "        '''\n",
    "        渡された soup が Noneでなければ textプロパティの値を返す\n",
    "\n",
    "        Params\n",
    "        ---------------------      \n",
    "        soup: bs4.element.Tag\n",
    "            bs4でfindした結果の戻り値\n",
    "          \n",
    "        Returns\n",
    "        ---------------------\n",
    "        return :str\n",
    "            textプロパティに格納されている文字列\n",
    "        '''\n",
    "\n",
    "        return ' ' if soup == None else soup.text\n",
    "    \n",
    "    def rename_column(self,columns):\n",
    "        '''\n",
    "        重複するカラム名の末尾に連番を付与し、ユニークなカラム名にする\n",
    "            例 ['A','B','B',B'] → ['A','B','B_1','B_2']\n",
    "\n",
    "        Params\n",
    "        ---------------------      \n",
    "        columns: [str]\n",
    "            カラム名のリスト\n",
    "          \n",
    "        Returns\n",
    "        ---------------------\n",
    "        return :str\n",
    "            重複するカラム名の末尾に連番が付与されたリスト\n",
    "        '''\n",
    "        lst = list(set(columns))\n",
    "        for column in columns:\n",
    "            dupl = columns.count(column)\n",
    "            if dupl > 1:\n",
    "                cnt = 0\n",
    "                for n in range(0,len(columns)):\n",
    "                    if columns[n] == column:\n",
    "                        if cnt > 0:\n",
    "                            columns[n] = f'{column}_{cnt}'\n",
    "                        cnt += 1\n",
    "        return columns\n",
    "\n",
    "    def write_log(self,filename,message):\n",
    "        '''\n",
    "        指定されたファイル名にmessageを追記する。\n",
    "\n",
    "        Params\n",
    "        ---------------------      \n",
    "        filename: str\n",
    "            ファイル名\n",
    "        message: str\n",
    "            ファイルに追記する文字列          \n",
    "        '''\n",
    "        message += '\\n'\n",
    "        with open(filename, 'a', encoding='shift-jis') as f:\n",
    "           f.write(message)\n",
    "           print(message)\n",
    "\n",
    "    def read_log(self,filename):\n",
    "        '''\n",
    "        指定されたファイル名を読み込んでリストで返す\n",
    "\n",
    "        Params\n",
    "        ---------------------      \n",
    "        filename: str\n",
    "            ファイル名\n",
    "           \n",
    "        Returns\n",
    "        ---------------------\n",
    "        return :[str]\n",
    "            読み込んだ結果\n",
    "        '''\n",
    "        with open(filename, 'r', encoding='shift-jis') as f:\n",
    "           lines = f.read()\n",
    "        return lines"
   ]
  },
  {
   "cell_type": "code",
   "execution_count": null,
   "metadata": {},
   "outputs": [],
   "source": [
    "with open(\"links.txt\",\"r\") as f:\n",
    "    f.write(\"\")"
   ]
  },
  {
   "cell_type": "code",
   "execution_count": 4,
   "metadata": {},
   "outputs": [
    {
     "name": "stdout",
     "output_type": "stream",
     "text": [
      "[1, 1, 1, 1, 1, 1, 1, 1, 1, 1, 1, 1, 1, 1, 1, 1]\n"
     ]
    }
   ],
   "source": [
    "print([1]*(1<<4))"
   ]
  },
  {
   "cell_type": "code",
   "execution_count": 6,
   "metadata": {},
   "outputs": [
    {
     "data": {
      "text/plain": [
       "10"
      ]
     },
     "execution_count": 6,
     "metadata": {},
     "output_type": "execute_result"
    }
   ],
   "source": [
    "S=2\n",
    "x=3\n",
    "S ^ 1 << x"
   ]
  },
  {
   "cell_type": "code",
   "execution_count": 8,
   "metadata": {},
   "outputs": [
    {
     "data": {
      "text/plain": [
       "0"
      ]
     },
     "execution_count": 8,
     "metadata": {},
     "output_type": "execute_result"
    }
   ],
   "source": [
    "2 ^ 2"
   ]
  },
  {
   "cell_type": "code",
   "execution_count": 11,
   "metadata": {},
   "outputs": [
    {
     "data": {
      "text/plain": [
       "[1, 2, 3, 4, 5, 6]"
      ]
     },
     "execution_count": 11,
     "metadata": {},
     "output_type": "execute_result"
    }
   ],
   "source": [
    "list(range(1,7))"
   ]
  },
  {
   "cell_type": "code",
   "execution_count": 13,
   "metadata": {},
   "outputs": [
    {
     "name": "stdout",
     "output_type": "stream",
     "text": [
      "2\n"
     ]
    }
   ],
   "source": [
    "from bisect import bisect_left\n",
    "list1=[1,2,3,4,5]\n",
    "y=bisect_left(list1,3)\n",
    "print(y)"
   ]
  },
  {
   "cell_type": "code",
   "execution_count": 1,
   "metadata": {},
   "outputs": [
    {
     "name": "stdout",
     "output_type": "stream",
     "text": [
      "\u001b[0;31mSignature:\u001b[0m\n",
      "\u001b[0mopen\u001b[0m\u001b[0;34m(\u001b[0m\u001b[0;34m\u001b[0m\n",
      "\u001b[0;34m\u001b[0m    \u001b[0mfile\u001b[0m\u001b[0;34m,\u001b[0m\u001b[0;34m\u001b[0m\n",
      "\u001b[0;34m\u001b[0m    \u001b[0mmode\u001b[0m\u001b[0;34m=\u001b[0m\u001b[0;34m'r'\u001b[0m\u001b[0;34m,\u001b[0m\u001b[0;34m\u001b[0m\n",
      "\u001b[0;34m\u001b[0m    \u001b[0mbuffering\u001b[0m\u001b[0;34m=\u001b[0m\u001b[0;34m-\u001b[0m\u001b[0;36m1\u001b[0m\u001b[0;34m,\u001b[0m\u001b[0;34m\u001b[0m\n",
      "\u001b[0;34m\u001b[0m    \u001b[0mencoding\u001b[0m\u001b[0;34m=\u001b[0m\u001b[0;32mNone\u001b[0m\u001b[0;34m,\u001b[0m\u001b[0;34m\u001b[0m\n",
      "\u001b[0;34m\u001b[0m    \u001b[0merrors\u001b[0m\u001b[0;34m=\u001b[0m\u001b[0;32mNone\u001b[0m\u001b[0;34m,\u001b[0m\u001b[0;34m\u001b[0m\n",
      "\u001b[0;34m\u001b[0m    \u001b[0mnewline\u001b[0m\u001b[0;34m=\u001b[0m\u001b[0;32mNone\u001b[0m\u001b[0;34m,\u001b[0m\u001b[0;34m\u001b[0m\n",
      "\u001b[0;34m\u001b[0m    \u001b[0mclosefd\u001b[0m\u001b[0;34m=\u001b[0m\u001b[0;32mTrue\u001b[0m\u001b[0;34m,\u001b[0m\u001b[0;34m\u001b[0m\n",
      "\u001b[0;34m\u001b[0m    \u001b[0mopener\u001b[0m\u001b[0;34m=\u001b[0m\u001b[0;32mNone\u001b[0m\u001b[0;34m,\u001b[0m\u001b[0;34m\u001b[0m\n",
      "\u001b[0;34m\u001b[0m\u001b[0;34m)\u001b[0m\u001b[0;34m\u001b[0m\u001b[0;34m\u001b[0m\u001b[0m\n",
      "\u001b[0;31mDocstring:\u001b[0m\n",
      "Open file and return a stream.  Raise OSError upon failure.\n",
      "\n",
      "file is either a text or byte string giving the name (and the path\n",
      "if the file isn't in the current working directory) of the file to\n",
      "be opened or an integer file descriptor of the file to be\n",
      "wrapped. (If a file descriptor is given, it is closed when the\n",
      "returned I/O object is closed, unless closefd is set to False.)\n",
      "\n",
      "mode is an optional string that specifies the mode in which the file\n",
      "is opened. It defaults to 'r' which means open for reading in text\n",
      "mode.  Other common values are 'w' for writing (truncating the file if\n",
      "it already exists), 'x' for creating and writing to a new file, and\n",
      "'a' for appending (which on some Unix systems, means that all writes\n",
      "append to the end of the file regardless of the current seek position).\n",
      "In text mode, if encoding is not specified the encoding used is platform\n",
      "dependent: locale.getpreferredencoding(False) is called to get the\n",
      "current locale encoding. (For reading and writing raw bytes use binary\n",
      "mode and leave encoding unspecified.) The available modes are:\n",
      "\n",
      "========= ===============================================================\n",
      "Character Meaning\n",
      "--------- ---------------------------------------------------------------\n",
      "'r'       open for reading (default)\n",
      "'w'       open for writing, truncating the file first\n",
      "'x'       create a new file and open it for writing\n",
      "'a'       open for writing, appending to the end of the file if it exists\n",
      "'b'       binary mode\n",
      "'t'       text mode (default)\n",
      "'+'       open a disk file for updating (reading and writing)\n",
      "'U'       universal newline mode (deprecated)\n",
      "========= ===============================================================\n",
      "\n",
      "The default mode is 'rt' (open for reading text). For binary random\n",
      "access, the mode 'w+b' opens and truncates the file to 0 bytes, while\n",
      "'r+b' opens the file without truncation. The 'x' mode implies 'w' and\n",
      "raises an `FileExistsError` if the file already exists.\n",
      "\n",
      "Python distinguishes between files opened in binary and text modes,\n",
      "even when the underlying operating system doesn't. Files opened in\n",
      "binary mode (appending 'b' to the mode argument) return contents as\n",
      "bytes objects without any decoding. In text mode (the default, or when\n",
      "'t' is appended to the mode argument), the contents of the file are\n",
      "returned as strings, the bytes having been first decoded using a\n",
      "platform-dependent encoding or using the specified encoding if given.\n",
      "\n",
      "'U' mode is deprecated and will raise an exception in future versions\n",
      "of Python.  It has no effect in Python 3.  Use newline to control\n",
      "universal newlines mode.\n",
      "\n",
      "buffering is an optional integer used to set the buffering policy.\n",
      "Pass 0 to switch buffering off (only allowed in binary mode), 1 to select\n",
      "line buffering (only usable in text mode), and an integer > 1 to indicate\n",
      "the size of a fixed-size chunk buffer.  When no buffering argument is\n",
      "given, the default buffering policy works as follows:\n",
      "\n",
      "* Binary files are buffered in fixed-size chunks; the size of the buffer\n",
      "  is chosen using a heuristic trying to determine the underlying device's\n",
      "  \"block size\" and falling back on `io.DEFAULT_BUFFER_SIZE`.\n",
      "  On many systems, the buffer will typically be 4096 or 8192 bytes long.\n",
      "\n",
      "* \"Interactive\" text files (files for which isatty() returns True)\n",
      "  use line buffering.  Other text files use the policy described above\n",
      "  for binary files.\n",
      "\n",
      "encoding is the name of the encoding used to decode or encode the\n",
      "file. This should only be used in text mode. The default encoding is\n",
      "platform dependent, but any encoding supported by Python can be\n",
      "passed.  See the codecs module for the list of supported encodings.\n",
      "\n",
      "errors is an optional string that specifies how encoding errors are to\n",
      "be handled---this argument should not be used in binary mode. Pass\n",
      "'strict' to raise a ValueError exception if there is an encoding error\n",
      "(the default of None has the same effect), or pass 'ignore' to ignore\n",
      "errors. (Note that ignoring encoding errors can lead to data loss.)\n",
      "See the documentation for codecs.register or run 'help(codecs.Codec)'\n",
      "for a list of the permitted encoding error strings.\n",
      "\n",
      "newline controls how universal newlines works (it only applies to text\n",
      "mode). It can be None, '', '\\n', '\\r', and '\\r\\n'.  It works as\n",
      "follows:\n",
      "\n",
      "* On input, if newline is None, universal newlines mode is\n",
      "  enabled. Lines in the input can end in '\\n', '\\r', or '\\r\\n', and\n",
      "  these are translated into '\\n' before being returned to the\n",
      "  caller. If it is '', universal newline mode is enabled, but line\n",
      "  endings are returned to the caller untranslated. If it has any of\n",
      "  the other legal values, input lines are only terminated by the given\n",
      "  string, and the line ending is returned to the caller untranslated.\n",
      "\n",
      "* On output, if newline is None, any '\\n' characters written are\n",
      "  translated to the system default line separator, os.linesep. If\n",
      "  newline is '' or '\\n', no translation takes place. If newline is any\n",
      "  of the other legal values, any '\\n' characters written are translated\n",
      "  to the given string.\n",
      "\n",
      "If closefd is False, the underlying file descriptor will be kept open\n",
      "when the file is closed. This does not work when a file name is given\n",
      "and must be True in that case.\n",
      "\n",
      "A custom opener can be used by passing a callable as *opener*. The\n",
      "underlying file descriptor for the file object is then obtained by\n",
      "calling *opener* with (*file*, *flags*). *opener* must return an open\n",
      "file descriptor (passing os.open as *opener* results in functionality\n",
      "similar to passing None).\n",
      "\n",
      "open() returns a file object whose type depends on the mode, and\n",
      "through which the standard file operations such as reading and writing\n",
      "are performed. When open() is used to open a file in a text mode ('w',\n",
      "'r', 'wt', 'rt', etc.), it returns a TextIOWrapper. When used to open\n",
      "a file in a binary mode, the returned class varies: in read binary\n",
      "mode, it returns a BufferedReader; in write binary and append binary\n",
      "modes, it returns a BufferedWriter, and in read/write mode, it returns\n",
      "a BufferedRandom.\n",
      "\n",
      "It is also possible to use a string or bytearray as a file for both\n",
      "reading and writing. For strings StringIO can be used like a file\n",
      "opened in a text mode, and for bytes a BytesIO can be used like a file\n",
      "opened in a binary mode.\n",
      "\u001b[0;31mType:\u001b[0m      builtin_function_or_method\n"
     ]
    }
   ],
   "source": [
    "open?"
   ]
  }
 ],
 "metadata": {
  "kernelspec": {
   "display_name": "Python 3.9.13 64-bit",
   "language": "python",
   "name": "python3"
  },
  "language_info": {
   "codemirror_mode": {
    "name": "ipython",
    "version": 3
   },
   "file_extension": ".py",
   "mimetype": "text/x-python",
   "name": "python",
   "nbconvert_exporter": "python",
   "pygments_lexer": "ipython3",
   "version": "3.9.13"
  },
  "orig_nbformat": 4,
  "vscode": {
   "interpreter": {
    "hash": "b0fa6594d8f4cbf19f97940f81e996739fb7646882a419484c72d19e05852a7e"
   }
  }
 },
 "nbformat": 4,
 "nbformat_minor": 2
}
