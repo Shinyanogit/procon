{
 "cells": [
  {
   "cell_type": "code",
   "execution_count": 1,
   "metadata": {},
   "outputs": [
    {
     "name": "stdout",
     "output_type": "stream",
     "text": [
      "2\n"
     ]
    }
   ],
   "source": [
    "print((3+1)//2)"
   ]
  },
  {
   "cell_type": "code",
   "execution_count": 2,
   "metadata": {},
   "outputs": [
    {
     "name": "stdout",
     "output_type": "stream",
     "text": [
      "1\n"
     ]
    }
   ],
   "source": [
    "c=1\n",
    "c2 = (c+1)//2\n",
    "print(c2)"
   ]
  },
  {
   "cell_type": "code",
   "execution_count": 4,
   "metadata": {},
   "outputs": [],
   "source": [
    "def answer(a, b, c, d):\n",
    "    print(a,b,c,d)\n",
    "    # ijが奇数\n",
    "    a1 = a // 2+1\n",
    "    b1 = (b + 1) // 2\n",
    "    c1 = c//2 +1\n",
    "    d1 = (d + 1) // 2\n",
    "    sum1 = (d1 ** 2 - (c1 - 1) ** 2) * m + (b1 * (b1**2 - (a1 - 1)**2) // 2)\n",
    "    #ijが偶数\n",
    "    c2 = (c+1)//2\n",
    "    d2 = d// 2\n",
    "    a2 = (a+1)//2\n",
    "    b2 = b // 2\n",
    "    sum2 = b2 ** 2 - (a2 - 1) ** 2 + m * (d2 * (d2 + 1) - c2 * (c2 - 1)) // 2\n",
    "    print(sum1, \"  \", sum2)\n",
    "    return sum1 + sum2"
   ]
  }
 ],
 "metadata": {
  "kernelspec": {
   "display_name": "Python 3.8.8 ('base')",
   "language": "python",
   "name": "python3"
  },
  "language_info": {
   "codemirror_mode": {
    "name": "ipython",
    "version": 3
   },
   "file_extension": ".py",
   "mimetype": "text/x-python",
   "name": "python",
   "nbconvert_exporter": "python",
   "pygments_lexer": "ipython3",
   "version": "3.8.8"
  },
  "orig_nbformat": 4,
  "vscode": {
   "interpreter": {
    "hash": "40d3a090f54c6569ab1632332b64b2c03c39dcf918b08424e98f38b5ae0af88f"
   }
  }
 },
 "nbformat": 4,
 "nbformat_minor": 2
}
