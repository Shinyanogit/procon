{
 "cells": [
  {
   "cell_type": "code",
   "execution_count": 7,
   "metadata": {},
   "outputs": [],
   "source": [
    "import random\n",
    "with open(\"input5.txt\",\"w\") as f:\n",
    "    f.write(\"10\\n\")\n",
    "    for i in range(10):\n",
    "        N=random.randint(1,14)\n",
    "        K=random.randint(1,N//2+1)\n",
    "        text=\"\"\n",
    "        for i in range(N):\n",
    "            text+=random.choice([\"0\",\"1\",\"?\"])\n",
    "        f.write(f\"{N} {K}\\n{text}\\n\")"
   ]
  }
 ],
 "metadata": {
  "kernelspec": {
   "display_name": "Python 3.9.13 64-bit",
   "language": "python",
   "name": "python3"
  },
  "language_info": {
   "codemirror_mode": {
    "name": "ipython",
    "version": 3
   },
   "file_extension": ".py",
   "mimetype": "text/x-python",
   "name": "python",
   "nbconvert_exporter": "python",
   "pygments_lexer": "ipython3",
   "version": "3.9.13"
  },
  "orig_nbformat": 4,
  "vscode": {
   "interpreter": {
    "hash": "b0fa6594d8f4cbf19f97940f81e996739fb7646882a419484c72d19e05852a7e"
   }
  }
 },
 "nbformat": 4,
 "nbformat_minor": 2
}
