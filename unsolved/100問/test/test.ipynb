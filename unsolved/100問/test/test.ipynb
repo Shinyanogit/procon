{
 "cells": [
  {
   "cell_type": "code",
   "execution_count": 2,
   "metadata": {},
   "outputs": [],
   "source": [
    "\n",
    "import os"
   ]
  },
  {
   "cell_type": "code",
   "execution_count": 3,
   "metadata": {},
   "outputs": [
    {
     "name": "stdout",
     "output_type": "stream",
     "text": [
      "\u001b[0;31mSignature:\u001b[0m \u001b[0mos\u001b[0m\u001b[0;34m.\u001b[0m\u001b[0mmakedirs\u001b[0m\u001b[0;34m(\u001b[0m\u001b[0mname\u001b[0m\u001b[0;34m,\u001b[0m \u001b[0mmode\u001b[0m\u001b[0;34m=\u001b[0m\u001b[0;36m511\u001b[0m\u001b[0;34m,\u001b[0m \u001b[0mexist_ok\u001b[0m\u001b[0;34m=\u001b[0m\u001b[0;32mFalse\u001b[0m\u001b[0;34m)\u001b[0m\u001b[0;34m\u001b[0m\u001b[0;34m\u001b[0m\u001b[0m\n",
      "\u001b[0;31mDocstring:\u001b[0m\n",
      "makedirs(name [, mode=0o777][, exist_ok=False])\n",
      "\n",
      "Super-mkdir; create a leaf directory and all intermediate ones.  Works like\n",
      "mkdir, except that any intermediate path segment (not just the rightmost)\n",
      "will be created if it does not exist. If the target directory already\n",
      "exists, raise an OSError if exist_ok is False. Otherwise no exception is\n",
      "raised.  This is recursive.\n",
      "\u001b[0;31mFile:\u001b[0m      /opt/homebrew/Cellar/python@3.9/3.9.13_1/Frameworks/Python.framework/Versions/3.9/lib/python3.9/os.py\n",
      "\u001b[0;31mType:\u001b[0m      function\n"
     ]
    }
   ],
   "source": [
    "os.makedirs?"
   ]
  },
  {
   "cell_type": "code",
   "execution_count": 5,
   "metadata": {},
   "outputs": [],
   "source": [
    "for i in range(100):\n",
    "    os.makedirs(f\"question{i+1}\")\n",
    "    os.chdir(f\"question{i+1}\")\n",
    "    f=open(\"solve.py\",mode=\"w\")\n",
    "    f.close()\n",
    "    os.chdir(\"..\")"
   ]
  },
  {
   "cell_type": "code",
   "execution_count": null,
   "metadata": {},
   "outputs": [],
   "source": []
  },
  {
   "cell_type": "code",
   "execution_count": 9,
   "metadata": {},
   "outputs": [
    {
     "data": {
      "text/plain": [
       "['.ipynb_checkpoints', 'test.ipynb']"
      ]
     },
     "execution_count": 9,
     "metadata": {},
     "output_type": "execute_result"
    }
   ],
   "source": [
    "os.listdir()"
   ]
  },
  {
   "cell_type": "code",
   "execution_count": 7,
   "metadata": {},
   "outputs": [
    {
     "data": {
      "text/plain": [
       "'/Users/shinyyama/.Trash/question1'"
      ]
     },
     "execution_count": 7,
     "metadata": {},
     "output_type": "execute_result"
    }
   ],
   "source": [
    "os.getcwd()"
   ]
  },
  {
   "cell_type": "code",
   "execution_count": 8,
   "metadata": {},
   "outputs": [],
   "source": [
    "os.chdir(\"/Users/shinyyama/Documents/python/kyoupro/unsolved/100問\")"
   ]
  },
  {
   "cell_type": "code",
   "execution_count": 3,
   "metadata": {},
   "outputs": [
    {
     "ename": "ModuleNotFoundError",
     "evalue": "No module named 'bs4'",
     "output_type": "error",
     "traceback": [
      "\u001b[0;31m---------------------------------------------------------------------------\u001b[0m",
      "\u001b[0;31mModuleNotFoundError\u001b[0m                       Traceback (most recent call last)",
      "\u001b[1;32m/Users/shinyyama/Documents/python/kyoupro/unsolved/100問/test.ipynb Cell 7\u001b[0m in \u001b[0;36m<cell line: 2>\u001b[0;34m()\u001b[0m\n\u001b[1;32m      <a href='vscode-notebook-cell:/Users/shinyyama/Documents/python/kyoupro/unsolved/100%E5%95%8F/test.ipynb#ch0000006?line=0'>1</a>\u001b[0m \u001b[39mimport\u001b[39;00m \u001b[39mrequests\u001b[39;00m\n\u001b[0;32m----> <a href='vscode-notebook-cell:/Users/shinyyama/Documents/python/kyoupro/unsolved/100%E5%95%8F/test.ipynb#ch0000006?line=1'>2</a>\u001b[0m \u001b[39mfrom\u001b[39;00m \u001b[39mbs4\u001b[39;00m \u001b[39mimport\u001b[39;00m BeautifulSoup\n\u001b[1;32m      <a href='vscode-notebook-cell:/Users/shinyyama/Documents/python/kyoupro/unsolved/100%E5%95%8F/test.ipynb#ch0000006?line=2'>3</a>\u001b[0m \u001b[39mimport\u001b[39;00m \u001b[39mtime\u001b[39;00m\n\u001b[1;32m      <a href='vscode-notebook-cell:/Users/shinyyama/Documents/python/kyoupro/unsolved/100%E5%95%8F/test.ipynb#ch0000006?line=3'>4</a>\u001b[0m \u001b[39mimport\u001b[39;00m \u001b[39mrandom\u001b[39;00m\n",
      "\u001b[0;31mModuleNotFoundError\u001b[0m: No module named 'bs4'"
     ]
    }
   ],
   "source": [
    "\n",
    "import requests\n",
    "from bs4 import BeautifulSoup\n",
    "import time\n",
    "import random\n",
    "import pandas as pd\n",
    "import time\n",
    "import datetime\n",
    "\n",
    "class Scrape():\n",
    "\n",
    "    def __init__(self,wait=1,max=None):\n",
    "        self.response = None\n",
    "        self.df = pd.DataFrame()\n",
    "        self.wait = wait\n",
    "        self.max = max\n",
    "        self.headers = {\"User-Agent\": \"Mozilla/5.0 (Windows NT 10.0; Win64; x64) AppleWebKit/537.36 (KHTML, like Gecko) Chrome/77.0.3865.120 Safari/537.36\"}\n",
    "        self.timeout = 5\n",
    "\n",
    "    def request(self,url,wait=None,max=None,console=True):\n",
    "        '''\n",
    "        指定したURLからページを取得する。\n",
    "        取得後にwaitで指定された秒数だけ待機する。\n",
    "        max が指定された場合、waitが最小値、maxが最大値の間でランダムに待機する。\n",
    "\n",
    "        Params\n",
    "        ---------------------\n",
    "        url:str\n",
    "            URL\n",
    "        wait:int\n",
    "            ウェイト秒\n",
    "        max:int\n",
    "            ウェイト秒の最大値\n",
    "        console:bool\n",
    "            状況をコンソール出力するか\n",
    "        Returns\n",
    "        ---------------------\n",
    "        soup:BeautifulSoupの戻り値\n",
    "        '''\n",
    "        self.wait = self.wait if wait is None else wait\n",
    "        self.max = self.max if max is None else max\n",
    "\n",
    "        start = time.time()     \n",
    "        response = requests.get(url,headers=self.headers,timeout = self.timeout)\n",
    "        time.sleep(random.randint(self.wait,self.wait if self.max is None else self.max))\n",
    "        \n",
    "        if console:\n",
    "            tm = datetime.datetime.now().strftime('%Y/%m/%d %H:%M:%S')\n",
    "            lap = time.time() - start\n",
    "            print(f'{tm} : {url}  経過時間 : {lap:.3f} 秒')\n",
    "\n",
    "        return BeautifulSoup(response.content, \"html.parser\")\n",
    "      \n",
    "    def get_href(self,soup,contains = None):\n",
    "        '''\n",
    "        soupの中からアンカータグを検索し、空でないurlをリストで返す\n",
    "        containsが指定された場合、更にその文字列が含まれるurlだけを返す\n",
    "\n",
    "        Params\n",
    "        ---------------------\n",
    "        soup:str\n",
    "            BeautifulSoupの戻り値\n",
    "        contains:str\n",
    "            抽出条件となる文字列            \n",
    "\n",
    "        Returns\n",
    "        ---------------------\n",
    "        return :[str]\n",
    "            条件を満たすurlのリスト\n",
    "        '''\n",
    "        urls = list(set([url.get('href') for url in soup.find_all('a')]))\n",
    "        if contains is not None:\n",
    "           return [url for url in urls if self.contains(url,contains)]\n",
    "        return [url for url in urls if urls is not None or urls.strip() != '']\n",
    "\n",
    "    def get_src(self,soup,contains = None):\n",
    "        '''\n",
    "        soupの中からimgタグを検索し、空でないsrcをリストで返す\n",
    "        containsが指定された場合、更にその文字列が含まれるurlだけを返す\n",
    "\n",
    "        Params\n",
    "        ---------------------\n",
    "        soup:str\n",
    "            BeautifulSoupの戻り値\n",
    "        contains:str\n",
    "            抽出条件となる文字列            \n",
    "\n",
    "        Returns\n",
    "        ---------------------\n",
    "        return :[str]\n",
    "            条件を満たすurlのリスト\n",
    "        '''\n",
    "        urls = list(set([url.get('src') for url in soup.find_all('img')]))\n",
    "        if contains is not None:\n",
    "           return [url for url in urls if contains(url,self.contains)]\n",
    "        return [url for url in urls if urls is not None or urls.strip() != '']\n",
    "\n",
    "    def contains(self,line,kwd):\n",
    "        '''\n",
    "        line に kwd が含まれているかチェックする。\n",
    "        line が None か '' の場合、或いは kwd が None 又は '' の場合は Trueを返す。\n",
    "\n",
    "        Params\n",
    "        ---------------------      \n",
    "        line:str\n",
    "            HTMLの文字列\n",
    "        contains:str\n",
    "            抽出条件となる文字列            \n",
    "\n",
    "        Returns\n",
    "        ---------------------\n",
    "        return :[str]\n",
    "            条件を満たすurlのリスト\n",
    "        '''\n",
    "        if line is None or line.strip() == '':\n",
    "            return False\n",
    "        if kwd is None or kwd == '':\n",
    "            return True\n",
    "        return kwd in line \n",
    "    \n",
    "       \n",
    "    def omit_char(self,values,omits):\n",
    "        '''\n",
    "        リストで指定した文字、又は文字列を削除する\n",
    "\n",
    "        Params\n",
    "        ---------------------      \n",
    "        values:str\n",
    "            対象文字列\n",
    "        omits:str\n",
    "            削除したい文字、又は文字列            \n",
    "\n",
    "        Returns\n",
    "        ---------------------\n",
    "        return :str\n",
    "            不要な文字を削除した文字列\n",
    "        '''\n",
    "        for n in range(len(values)):\n",
    "            for omit in omits:\n",
    "                values[n] = values[n].replace(omit,'')\n",
    "        return values\n",
    "\n",
    "    def add_df(self,values,columns,omits = None):\n",
    "        '''\n",
    "        指定した値を　DataFrame に行として追加する\n",
    "        omits に削除したい文字列をリストで指定可能\n",
    "\n",
    "        Params\n",
    "        ---------------------      \n",
    "        values:[str]\n",
    "            列名\n",
    "        omits:[str]\n",
    "            削除したい文字、又は文字列            \n",
    "        '''\n",
    "        if omits is not None:\n",
    "            values = self.omit_char(values,omits)\n",
    "            columns = self.omit_char(columns,omits)\n",
    "        \n",
    "        df = pd.DataFrame(values,index=self.rename_column(columns))\n",
    "        self.df = pd.concat([self.df,df.T])\n",
    "   \n",
    "    def to_csv(self,filename,dropcolumns=None):\n",
    "        '''\n",
    "        DataFrame をCSVとして出力する\n",
    "        dropcolumns に削除したい列をリストで指定可能\n",
    "\n",
    "        Params\n",
    "        ---------------------      \n",
    "        filename:str\n",
    "            ファイル名\n",
    "        dropcolumns:[str]\n",
    "            削除したい列名            \n",
    "        '''\n",
    "        if dropcolumns is not None:\n",
    "            self.df.drop(dropcolumns,axis=1,inplace=True) \n",
    "        self.df.to_csv(filename,index=False,encoding=\"shift-jis\",errors=\"ignore\")\n",
    "    \n",
    "    def get_text(self,soup):\n",
    "        '''\n",
    "        渡された soup が Noneでなければ textプロパティの値を返す\n",
    "\n",
    "        Params\n",
    "        ---------------------      \n",
    "        soup: bs4.element.Tag\n",
    "            bs4でfindした結果の戻り値\n",
    "          \n",
    "        Returns\n",
    "        ---------------------\n",
    "        return :str\n",
    "            textプロパティに格納されている文字列\n",
    "        '''\n",
    "\n",
    "        return ' ' if soup == None else soup.text\n",
    "    \n",
    "    def rename_column(self,columns):\n",
    "        '''\n",
    "        重複するカラム名の末尾に連番を付与し、ユニークなカラム名にする\n",
    "            例 ['A','B','B',B'] → ['A','B','B_1','B_2']\n",
    "\n",
    "        Params\n",
    "        ---------------------      \n",
    "        columns: [str]\n",
    "            カラム名のリスト\n",
    "          \n",
    "        Returns\n",
    "        ---------------------\n",
    "        return :str\n",
    "            重複するカラム名の末尾に連番が付与されたリスト\n",
    "        '''\n",
    "        lst = list(set(columns))\n",
    "        for column in columns:\n",
    "            dupl = columns.count(column)\n",
    "            if dupl > 1:\n",
    "                cnt = 0\n",
    "                for n in range(0,len(columns)):\n",
    "                    if columns[n] == column:\n",
    "                        if cnt > 0:\n",
    "                            columns[n] = f'{column}_{cnt}'\n",
    "                        cnt += 1\n",
    "        return columns\n",
    "\n",
    "    def write_log(self,filename,message):\n",
    "        '''\n",
    "        指定されたファイル名にmessageを追記する。\n",
    "\n",
    "        Params\n",
    "        ---------------------      \n",
    "        filename: str\n",
    "            ファイル名\n",
    "        message: str\n",
    "            ファイルに追記する文字列          \n",
    "        '''\n",
    "        message += '\\n'\n",
    "        with open(filename, 'a', encoding='shift-jis') as f:\n",
    "           f.write(message)\n",
    "           print(message)\n",
    "\n",
    "    def read_log(self,filename):\n",
    "        '''\n",
    "        指定されたファイル名を読み込んでリストで返す\n",
    "\n",
    "        Params\n",
    "        ---------------------      \n",
    "        filename: str\n",
    "            ファイル名\n",
    "           \n",
    "        Returns\n",
    "        ---------------------\n",
    "        return :[str]\n",
    "            読み込んだ結果\n",
    "        '''\n",
    "        with open(filename, 'r', encoding='shift-jis') as f:\n",
    "           lines = f.read()\n",
    "        return lines"
   ]
  },
  {
   "cell_type": "code",
   "execution_count": null,
   "metadata": {},
   "outputs": [],
   "source": [
    "with open(\"links.txt\",\"r\") as f:\n",
    "    f.write(\"\")"
   ]
  },
  {
   "cell_type": "code",
   "execution_count": 4,
   "metadata": {},
   "outputs": [
    {
     "name": "stdout",
     "output_type": "stream",
     "text": [
      "[1, 1, 1, 1, 1, 1, 1, 1, 1, 1, 1, 1, 1, 1, 1, 1]\n"
     ]
    }
   ],
   "source": [
    "print([1]*(1<<4))"
   ]
  },
  {
   "cell_type": "code",
   "execution_count": 6,
   "metadata": {},
   "outputs": [
    {
     "data": {
      "text/plain": [
       "10"
      ]
     },
     "execution_count": 6,
     "metadata": {},
     "output_type": "execute_result"
    }
   ],
   "source": [
    "S=2\n",
    "x=3\n",
    "S ^ 1 << x"
   ]
  },
  {
   "cell_type": "code",
   "execution_count": 8,
   "metadata": {},
   "outputs": [
    {
     "data": {
      "text/plain": [
       "0"
      ]
     },
     "execution_count": 8,
     "metadata": {},
     "output_type": "execute_result"
    }
   ],
   "source": [
    "2 ^ 2"
   ]
  },
  {
   "cell_type": "code",
   "execution_count": 11,
   "metadata": {},
   "outputs": [
    {
     "data": {
      "text/plain": [
       "[1, 2, 3, 4, 5, 6]"
      ]
     },
     "execution_count": 11,
     "metadata": {},
     "output_type": "execute_result"
    }
   ],
   "source": [
    "list(range(1,7))"
   ]
  },
  {
   "cell_type": "code",
   "execution_count": 13,
   "metadata": {},
   "outputs": [
    {
     "name": "stdout",
     "output_type": "stream",
     "text": [
      "2\n"
     ]
    }
   ],
   "source": [
    "from bisect import bisect_left\n",
    "list1=[1,2,3,4,5]\n",
    "y=bisect_left(list1,3)\n",
    "print(y)"
   ]
  },
  {
   "cell_type": "code",
   "execution_count": 1,
   "metadata": {},
   "outputs": [
    {
     "data": {
      "text/plain": [
       "True"
      ]
     },
     "execution_count": 1,
     "metadata": {},
     "output_type": "execute_result"
    }
   ],
   "source": [
    "1==True"
   ]
  },
  {
   "cell_type": "code",
   "execution_count": 2,
   "metadata": {},
   "outputs": [
    {
     "name": "stdout",
     "output_type": "stream",
     "text": [
      "0 False\n",
      "1 False\n",
      "2 True\n",
      "3 True\n",
      "4 True\n",
      "5 False\n",
      "6 False\n",
      "7 False\n",
      "8 False\n",
      "9 False\n"
     ]
    }
   ],
   "source": [
    "for i in range(10):\n",
    "    print(i,1<i<5)"
   ]
  },
  {
   "cell_type": "code",
   "execution_count": 3,
   "metadata": {},
   "outputs": [
    {
     "name": "stdout",
     "output_type": "stream",
     "text": [
      "0 0\n",
      "1 1\n",
      "2 2\n",
      "3 3\n"
     ]
    }
   ],
   "source": [
    "for i,j in zip(range(4),range(5)):\n",
    "    print(i,j)"
   ]
  },
  {
   "cell_type": "code",
   "execution_count": 4,
   "metadata": {},
   "outputs": [
    {
     "data": {
      "text/plain": [
       "1"
      ]
     },
     "execution_count": 4,
     "metadata": {},
     "output_type": "execute_result"
    }
   ],
   "source": [
    "\"abcde\".count(\"a\")"
   ]
  },
  {
   "cell_type": "code",
   "execution_count": 15,
   "metadata": {},
   "outputs": [
    {
     "data": {
      "text/plain": [
       "[<matplotlib.lines.Line2D at 0x13569f5e0>]"
      ]
     },
     "execution_count": 15,
     "metadata": {},
     "output_type": "execute_result"
    },
    {
     "data": {
      "image/png": "[encoded data removed]",
      "text/plain": [
       "<Figure size 432x288 with 1 Axes>"
      ]
     },
     "metadata": {
      "needs_background": "light"
     },
     "output_type": "display_data"
    }
   ],
   "source": [
    "p=3\n",
    "import math\n",
    "calc_time=lambda t:t+p*math.pow(2,-2*t/3)\n",
    "import  matplotlib.pyplot as plt\n",
    "import numpy as np\n",
    "t=np.linspace(0,5,1000)\n",
    "y=[calc_time(dt) for dt in t]\n",
    "plt.plot(t,y)"
   ]
  },
  {
   "cell_type": "code",
   "execution_count": 16,
   "metadata": {},
   "outputs": [
    {
     "data": {
      "text/plain": [
       "18.0"
      ]
     },
     "execution_count": 16,
     "metadata": {},
     "output_type": "execute_result"
    }
   ],
   "source": [
    "import math\n",
    "math.log10(1000000000000000000)"
   ]
  },
  {
   "cell_type": "code",
   "execution_count": 17,
   "metadata": {},
   "outputs": [
    {
     "ename": "TypeError",
     "evalue": "only size-1 arrays can be converted to Python scalars",
     "output_type": "error",
     "traceback": [
      "\u001b[0;31m---------------------------------------------------------------------------\u001b[0m",
      "\u001b[0;31mTypeError\u001b[0m                                 Traceback (most recent call last)",
      "\u001b[1;32m/Users/shinyyama/Documents/python/kyoupro/unsolved/100問/test/test.ipynb Cell 20\u001b[0m in \u001b[0;36m<cell line: 1>\u001b[0;34m()\u001b[0m\n\u001b[0;32m----> <a href='vscode-notebook-cell:/Users/shinyyama/Documents/python/kyoupro/unsolved/100%E5%95%8F/test/test.ipynb#ch0000019?line=0'>1</a>\u001b[0m plt\u001b[39m.\u001b[39mplot(x,p\u001b[39m*\u001b[39mmath\u001b[39m.\u001b[39;49mpow(\u001b[39m2\u001b[39;49m,\u001b[39m-\u001b[39;49m\u001b[39m2\u001b[39;49m\u001b[39m*\u001b[39;49mt\u001b[39m/\u001b[39;49m\u001b[39m3\u001b[39;49m))\n",
      "\u001b[0;31mTypeError\u001b[0m: only size-1 arrays can be converted to Python scalars"
     ]
    }
   ],
   "source": [
    "plt.plot(x,p*math.pow(2,-2*t/3))"
   ]
  },
  {
   "cell_type": "code",
   "execution_count": 19,
   "metadata": {},
   "outputs": [
    {
     "name": "stdout",
     "output_type": "stream",
     "text": [
      "0.8673617379884035\n"
     ]
    }
   ],
   "source": [
    "t=90\n",
    "print(10**18*math.pow(2,-2*t/3))"
   ]
  },
  {
   "cell_type": "code",
   "execution_count": 20,
   "metadata": {},
   "outputs": [
    {
     "ename": "ValueError",
     "evalue": "The truth value of an array with more than one element is ambiguous. Use a.any() or a.all()",
     "output_type": "error",
     "traceback": [
      "\u001b[0;31m---------------------------------------------------------------------------\u001b[0m",
      "\u001b[0;31mValueError\u001b[0m                                Traceback (most recent call last)",
      "\u001b[1;32m/Users/shinyyama/Documents/python/kyoupro/unsolved/100問/test/test.ipynb Cell 22\u001b[0m in \u001b[0;36m<cell line: 7>\u001b[0;34m()\u001b[0m\n\u001b[1;32m      <a href='vscode-notebook-cell:/Users/shinyyama/Documents/python/kyoupro/unsolved/100%E5%95%8F/test/test.ipynb#ch0000021?line=4'>5</a>\u001b[0m x \u001b[39m=\u001b[39m np\u001b[39m.\u001b[39mlinspace(\u001b[39m0\u001b[39m, right, \u001b[39m100\u001b[39m \u001b[39m*\u001b[39m right)\n\u001b[1;32m      <a href='vscode-notebook-cell:/Users/shinyyama/Documents/python/kyoupro/unsolved/100%E5%95%8F/test/test.ipynb#ch0000021?line=5'>6</a>\u001b[0m y \u001b[39m=\u001b[39m x \u001b[39m+\u001b[39m (right\u001b[39m*\u001b[39m\u001b[39m*\u001b[39m\u001b[39m2\u001b[39m) \u001b[39m*\u001b[39m np\u001b[39m.\u001b[39mpower(\u001b[39m2\u001b[39m, \u001b[39m-\u001b[39m\u001b[39m2\u001b[39m \u001b[39m*\u001b[39m x \u001b[39m/\u001b[39m \u001b[39m3\u001b[39m)\n\u001b[0;32m----> <a href='vscode-notebook-cell:/Users/shinyyama/Documents/python/kyoupro/unsolved/100%E5%95%8F/test/test.ipynb#ch0000021?line=6'>7</a>\u001b[0m plt\u001b[39m.\u001b[39;49mshow(x, y)\n",
      "File \u001b[0;32m/opt/homebrew/lib/python3.9/site-packages/matplotlib/pyplot.py:368\u001b[0m, in \u001b[0;36mshow\u001b[0;34m(*args, **kwargs)\u001b[0m\n\u001b[1;32m    324\u001b[0m \u001b[39m\"\"\"\u001b[39;00m\n\u001b[1;32m    325\u001b[0m \u001b[39mDisplay all open figures.\u001b[39;00m\n\u001b[1;32m    326\u001b[0m \n\u001b[0;32m   (...)\u001b[0m\n\u001b[1;32m    365\u001b[0m \u001b[39mexplicitly there.\u001b[39;00m\n\u001b[1;32m    366\u001b[0m \u001b[39m\"\"\"\u001b[39;00m\n\u001b[1;32m    367\u001b[0m _warn_if_gui_out_of_main_thread()\n\u001b[0;32m--> 368\u001b[0m \u001b[39mreturn\u001b[39;00m _backend_mod\u001b[39m.\u001b[39;49mshow(\u001b[39m*\u001b[39;49margs, \u001b[39m*\u001b[39;49m\u001b[39m*\u001b[39;49mkwargs)\n",
      "File \u001b[0;32m/opt/homebrew/lib/python3.9/site-packages/matplotlib_inline/backend_inline.py:49\u001b[0m, in \u001b[0;36mshow\u001b[0;34m(close, block)\u001b[0m\n\u001b[1;32m     46\u001b[0m show\u001b[39m.\u001b[39m_to_draw \u001b[39m=\u001b[39m []\n\u001b[1;32m     47\u001b[0m \u001b[39m# only call close('all') if any to close\u001b[39;00m\n\u001b[1;32m     48\u001b[0m \u001b[39m# close triggers gc.collect, which can be slow\u001b[39;00m\n\u001b[0;32m---> 49\u001b[0m \u001b[39mif\u001b[39;00m close \u001b[39mand\u001b[39;00m Gcf\u001b[39m.\u001b[39mget_all_fig_managers():\n\u001b[1;32m     50\u001b[0m     matplotlib\u001b[39m.\u001b[39mpyplot\u001b[39m.\u001b[39mclose(\u001b[39m'\u001b[39m\u001b[39mall\u001b[39m\u001b[39m'\u001b[39m)\n",
      "\u001b[0;31mValueError\u001b[0m: The truth value of an array with more than one element is ambiguous. Use a.any() or a.all()"
     ]
    }
   ],
   "source": [
    "import matplotlib.pyplot as plt\n",
    "import numpy as np\n",
    "left=0\n",
    "right=100\n",
    "x = np.linspace(0, right, 100 * right)\n",
    "y = x + (right**2) * np.power(2, -2 * x / 3)\n",
    "plt.show(x, y)"
   ]
  },
  {
   "cell_type": "code",
   "execution_count": 21,
   "metadata": {},
   "outputs": [
    {
     "name": "stdout",
     "output_type": "stream",
     "text": [
      "\u001b[0;31mSignature:\u001b[0m\n",
      "\u001b[0mnp\u001b[0m\u001b[0;34m.\u001b[0m\u001b[0mlinspace\u001b[0m\u001b[0;34m(\u001b[0m\u001b[0;34m\u001b[0m\n",
      "\u001b[0;34m\u001b[0m    \u001b[0mstart\u001b[0m\u001b[0;34m,\u001b[0m\u001b[0;34m\u001b[0m\n",
      "\u001b[0;34m\u001b[0m    \u001b[0mstop\u001b[0m\u001b[0;34m,\u001b[0m\u001b[0;34m\u001b[0m\n",
      "\u001b[0;34m\u001b[0m    \u001b[0mnum\u001b[0m\u001b[0;34m=\u001b[0m\u001b[0;36m50\u001b[0m\u001b[0;34m,\u001b[0m\u001b[0;34m\u001b[0m\n",
      "\u001b[0;34m\u001b[0m    \u001b[0mendpoint\u001b[0m\u001b[0;34m=\u001b[0m\u001b[0;32mTrue\u001b[0m\u001b[0;34m,\u001b[0m\u001b[0;34m\u001b[0m\n",
      "\u001b[0;34m\u001b[0m    \u001b[0mretstep\u001b[0m\u001b[0;34m=\u001b[0m\u001b[0;32mFalse\u001b[0m\u001b[0;34m,\u001b[0m\u001b[0;34m\u001b[0m\n",
      "\u001b[0;34m\u001b[0m    \u001b[0mdtype\u001b[0m\u001b[0;34m=\u001b[0m\u001b[0;32mNone\u001b[0m\u001b[0;34m,\u001b[0m\u001b[0;34m\u001b[0m\n",
      "\u001b[0;34m\u001b[0m    \u001b[0maxis\u001b[0m\u001b[0;34m=\u001b[0m\u001b[0;36m0\u001b[0m\u001b[0;34m,\u001b[0m\u001b[0;34m\u001b[0m\n",
      "\u001b[0;34m\u001b[0m\u001b[0;34m)\u001b[0m\u001b[0;34m\u001b[0m\u001b[0;34m\u001b[0m\u001b[0m\n",
      "\u001b[0;31mDocstring:\u001b[0m\n",
      "Return evenly spaced numbers over a specified interval.\n",
      "\n",
      "Returns `num` evenly spaced samples, calculated over the\n",
      "interval [`start`, `stop`].\n",
      "\n",
      "The endpoint of the interval can optionally be excluded.\n",
      "\n",
      ".. versionchanged:: 1.16.0\n",
      "    Non-scalar `start` and `stop` are now supported.\n",
      "\n",
      ".. versionchanged:: 1.20.0\n",
      "    Values are rounded towards ``-inf`` instead of ``0`` when an\n",
      "    integer ``dtype`` is specified. The old behavior can\n",
      "    still be obtained with ``np.linspace(start, stop, num).astype(int)``\n",
      "\n",
      "Parameters\n",
      "----------\n",
      "start : array_like\n",
      "    The starting value of the sequence.\n",
      "stop : array_like\n",
      "    The end value of the sequence, unless `endpoint` is set to False.\n",
      "    In that case, the sequence consists of all but the last of ``num + 1``\n",
      "    evenly spaced samples, so that `stop` is excluded.  Note that the step\n",
      "    size changes when `endpoint` is False.\n",
      "num : int, optional\n",
      "    Number of samples to generate. Default is 50. Must be non-negative.\n",
      "endpoint : bool, optional\n",
      "    If True, `stop` is the last sample. Otherwise, it is not included.\n",
      "    Default is True.\n",
      "retstep : bool, optional\n",
      "    If True, return (`samples`, `step`), where `step` is the spacing\n",
      "    between samples.\n",
      "dtype : dtype, optional\n",
      "    The type of the output array.  If `dtype` is not given, the data type\n",
      "    is inferred from `start` and `stop`. The inferred dtype will never be\n",
      "    an integer; `float` is chosen even if the arguments would produce an\n",
      "    array of integers.\n",
      "\n",
      "    .. versionadded:: 1.9.0\n",
      "\n",
      "axis : int, optional\n",
      "    The axis in the result to store the samples.  Relevant only if start\n",
      "    or stop are array-like.  By default (0), the samples will be along a\n",
      "    new axis inserted at the beginning. Use -1 to get an axis at the end.\n",
      "\n",
      "    .. versionadded:: 1.16.0\n",
      "\n",
      "Returns\n",
      "-------\n",
      "samples : ndarray\n",
      "    There are `num` equally spaced samples in the closed interval\n",
      "    ``[start, stop]`` or the half-open interval ``[start, stop)``\n",
      "    (depending on whether `endpoint` is True or False).\n",
      "step : float, optional\n",
      "    Only returned if `retstep` is True\n",
      "\n",
      "    Size of spacing between samples.\n",
      "\n",
      "\n",
      "See Also\n",
      "--------\n",
      "arange : Similar to `linspace`, but uses a step size (instead of the\n",
      "         number of samples).\n",
      "geomspace : Similar to `linspace`, but with numbers spaced evenly on a log\n",
      "            scale (a geometric progression).\n",
      "logspace : Similar to `geomspace`, but with the end points specified as\n",
      "           logarithms.\n",
      "\n",
      "Examples\n",
      "--------\n",
      ">>> np.linspace(2.0, 3.0, num=5)\n",
      "array([2.  , 2.25, 2.5 , 2.75, 3.  ])\n",
      ">>> np.linspace(2.0, 3.0, num=5, endpoint=False)\n",
      "array([2. ,  2.2,  2.4,  2.6,  2.8])\n",
      ">>> np.linspace(2.0, 3.0, num=5, retstep=True)\n",
      "(array([2.  ,  2.25,  2.5 ,  2.75,  3.  ]), 0.25)\n",
      "\n",
      "Graphical illustration:\n",
      "\n",
      ">>> import matplotlib.pyplot as plt\n",
      ">>> N = 8\n",
      ">>> y = np.zeros(N)\n",
      ">>> x1 = np.linspace(0, 10, N, endpoint=True)\n",
      ">>> x2 = np.linspace(0, 10, N, endpoint=False)\n",
      ">>> plt.plot(x1, y, 'o')\n",
      "[<matplotlib.lines.Line2D object at 0x...>]\n",
      ">>> plt.plot(x2, y + 0.5, 'o')\n",
      "[<matplotlib.lines.Line2D object at 0x...>]\n",
      ">>> plt.ylim([-0.5, 1])\n",
      "(-0.5, 1)\n",
      ">>> plt.show()\n",
      "\u001b[0;31mFile:\u001b[0m      /opt/homebrew/lib/python3.9/site-packages/numpy/core/function_base.py\n",
      "\u001b[0;31mType:\u001b[0m      function\n"
     ]
    }
   ],
   "source": [
    "np.linspace?"
   ]
  },
  {
   "cell_type": "code",
   "execution_count": 1,
   "metadata": {},
   "outputs": [
    {
     "name": "stdout",
     "output_type": "stream",
     "text": [
      "1\n"
     ]
    }
   ],
   "source": [
    "for i in range(3//2):\n",
    "    k=2*i+1\n",
    "    print(k)"
   ]
  },
  {
   "cell_type": "code",
   "execution_count": 2,
   "metadata": {},
   "outputs": [
    {
     "name": "stdout",
     "output_type": "stream",
     "text": [
      "1\n",
      "3\n",
      "5\n",
      "7\n",
      "9\n",
      "11\n",
      "13\n",
      "15\n",
      "17\n",
      "19\n",
      "21\n",
      "23\n",
      "25\n",
      "27\n",
      "29\n",
      "31\n",
      "33\n",
      "35\n",
      "37\n",
      "39\n",
      "41\n",
      "43\n",
      "45\n",
      "47\n",
      "49\n",
      "51\n",
      "53\n",
      "55\n",
      "57\n",
      "59\n",
      "61\n",
      "63\n",
      "65\n",
      "67\n",
      "69\n",
      "71\n",
      "73\n",
      "75\n",
      "77\n",
      "79\n",
      "81\n",
      "83\n",
      "85\n",
      "87\n",
      "89\n",
      "91\n",
      "93\n",
      "95\n",
      "97\n",
      "99\n",
      "101\n",
      "103\n"
     ]
    }
   ],
   "source": [
    "n=103\n",
    "for i in range(n // 2 + 1):\n",
    "    k = 2 * i + 1\n",
    "    print(k)"
   ]
  },
  {
   "cell_type": "code",
   "execution_count": 4,
   "metadata": {},
   "outputs": [
    {
     "name": "stdout",
     "output_type": "stream",
     "text": [
      "1\n",
      "3\n",
      "5\n",
      "7\n",
      "15\n",
      "21\n",
      "35\n",
      "105\n"
     ]
    }
   ],
   "source": [
    "c = 0\n",
    "k=105\n",
    "for j in [k % i == 0 for i in range(1, k + 1)]:\n",
    "    c += 1\n",
    "    if j:\n",
    "        print(c)"
   ]
  },
  {
   "cell_type": "code",
   "execution_count": 8,
   "metadata": {},
   "outputs": [
    {
     "name": "stdout",
     "output_type": "stream",
     "text": [
      "Object `[1]` not found.\n"
     ]
    }
   ],
   "source": [
    "[1].re"
   ]
  },
  {
   "cell_type": "code",
   "execution_count": 9,
   "metadata": {},
   "outputs": [
    {
     "name": "stdout",
     "output_type": "stream",
     "text": [
      "[0 0 0 0 0]\n",
      "[0 0 0 0 0 0]\n",
      "[0 0 0 0 0 0 0]\n",
      "[0 0 0 0 0 0 0 0]\n",
      "[0 0 0 0 0 0 0 0 0]\n",
      "[0 0 0 0 0 0 0 0 0 0]\n"
     ]
    }
   ],
   "source": [
    "import numpy as np\n",
    "N=5\n",
    "dp = np.zeros(N, np.int64)\n",
    "print(dp)\n",
    "for n in range(1, N + 1):\n",
    "    dp = np.append(dp, dp[0])  # dpも円環\n",
    "    print(dp)"
   ]
  },
  {
   "cell_type": "code",
   "execution_count": 12,
   "metadata": {},
   "outputs": [
    {
     "ename": "ModuleNotFoundError",
     "evalue": "No module named 'scipy'",
     "output_type": "error",
     "traceback": [
      "\u001b[0;31m---------------------------------------------------------------------------\u001b[0m",
      "\u001b[0;31mModuleNotFoundError\u001b[0m                       Traceback (most recent call last)",
      "\u001b[1;32m/Users/shinyyama/Documents/python/kyoupro/unsolved/100問/test/test.ipynb Cell 29\u001b[0m in \u001b[0;36m<cell line: 1>\u001b[0;34m()\u001b[0m\n\u001b[0;32m----> <a href='vscode-notebook-cell:/Users/shinyyama/Documents/python/kyoupro/unsolved/100%E5%95%8F/test/test.ipynb#ch0000028?line=0'>1</a>\u001b[0m \u001b[39mfrom\u001b[39;00m \u001b[39mscipy\u001b[39;00m\u001b[39m.\u001b[39;00m\u001b[39mspecial\u001b[39;00m \u001b[39mimport\u001b[39;00m comb\n\u001b[1;32m      <a href='vscode-notebook-cell:/Users/shinyyama/Documents/python/kyoupro/unsolved/100%E5%95%8F/test/test.ipynb#ch0000028?line=1'>2</a>\u001b[0m base \u001b[39m=\u001b[39m comb(\u001b[39m64\u001b[39m, \u001b[39m8\u001b[39m, exact\u001b[39m=\u001b[39m\u001b[39mTrue\u001b[39;00m)\n\u001b[1;32m      <a href='vscode-notebook-cell:/Users/shinyyama/Documents/python/kyoupro/unsolved/100%E5%95%8F/test/test.ipynb#ch0000028?line=2'>3</a>\u001b[0m \u001b[39mprint\u001b[39m(base)\n",
      "\u001b[0;31mModuleNotFoundError\u001b[0m: No module named 'scipy'"
     ]
    }
   ],
   "source": [
    "from scipy.special import comb\n",
    "base = comb(64, 8, exact=True)\n",
    "print(base) # 10"
   ]
  },
  {
   "cell_type": "code",
   "execution_count": 1,
   "metadata": {},
   "outputs": [
    {
     "data": {
      "text/plain": [
       "0"
      ]
     },
     "execution_count": 1,
     "metadata": {},
     "output_type": "execute_result"
    }
   ],
   "source": [
    "2//3"
   ]
  },
  {
   "cell_type": "code",
   "execution_count": 2,
   "metadata": {},
   "outputs": [
    {
     "name": "stdout",
     "output_type": "stream",
     "text": [
      "['b', 'c']\n"
     ]
    }
   ],
   "source": [
    "a=[\"a\",\"b\",\"c\"]\n",
    "a.remove(\"a\")\n",
    "print(a)"
   ]
  },
  {
   "cell_type": "code",
   "execution_count": 5,
   "metadata": {},
   "outputs": [
    {
     "name": "stdout",
     "output_type": "stream",
     "text": [
      "1\n",
      "2\n",
      "3\n"
     ]
    }
   ],
   "source": [
    "x=0\n",
    "def add1():\n",
    "    global x\n",
    "    x=x+1\n",
    "for i in range(3):\n",
    "    add1()\n",
    "    print(x)"
   ]
  },
  {
   "cell_type": "code",
   "execution_count": 6,
   "metadata": {},
   "outputs": [
    {
     "data": {
      "text/plain": [
       "3"
      ]
     },
     "execution_count": 6,
     "metadata": {},
     "output_type": "execute_result"
    }
   ],
   "source": [
    "len(set([1,1,2,3]))"
   ]
  },
  {
   "cell_type": "code",
   "execution_count": 34,
   "metadata": {},
   "outputs": [],
   "source": [
    "position=[\n",
    "    [1,0,3,4],\n",
    "    [5,6,0,8],\n",
    "    [0,10,11,12]\n",
    "]\n",
    "h=3\n",
    "w=4"
   ]
  },
  {
   "cell_type": "code",
   "execution_count": 32,
   "metadata": {},
   "outputs": [],
   "source": [
    "def rotate(t):  # positionをtが一なら右に傾け、違えばもとに戻す\n",
    "    global position\n",
    "    if t:#右に傾ける\n",
    "        result = [[0] * h for i in range(w)]\n",
    "        for i in range(h):\n",
    "            for j in range(w):\n",
    "                print(i, j, w, h)\n",
    "                result[j][h - 1 - i] = position[i][j]\n",
    "        position = result\n",
    "    else:#もとに戻す\n",
    "        result = [[0] * w for i in range(h)]\n",
    "        for i in range(w):\n",
    "            for j in range(h):\n",
    "                result[h - 1 - j][i] = position[i][j]\n",
    "\n",
    "        position = result\n",
    "\n",
    "\n",
    "def move_to_left(some_list):\n",
    "    result = [0 for i in range(len(some_list))]\n",
    "    index_counter = 0\n",
    "    for num in some_list:\n",
    "        if num:\n",
    "            result[index_counter]=num\n",
    "            index_counter += 1\n",
    "    return result\n",
    "\n",
    "\n",
    "def fall():\n",
    "    # 各列についてどんどん落下させていく\n",
    "    # そのために右に傾けてから左に詰めていく\n",
    "    global position\n",
    "    rotate(1)\n",
    "    for i in range(w):  # i行目を左詰めしていく\n",
    "        position[i] = move_to_left(position[i])\n",
    "    rotate(0)  # 左に傾けて元通り\n",
    "\n",
    "\n",
    "def banish():  # kつ以上並んだ箇所を特定して削除,出力には結果と点数\n",
    "    global position\n",
    "    result = position.copy()\n",
    "    score = 0\n",
    "    if k <= w:  # 横で消す\n",
    "        for i in range(h):  # i行目を考える\n",
    "            row = position[i]\n",
    "            for length in reversed(range(k, w + 1)):  # 長さがw-kまでで該当する箇所を削除していく\n",
    "                for start in range(w - length + 1):\n",
    "                    tmp = list(set(row[start : start + length]))\n",
    "                    if len(tmp) == 1 and (0 not in tmp):\n",
    "                        score += length * tmp[0]\n",
    "                        for j in range(length):\n",
    "                            result[i][start + j] = 0\n",
    "    return (result, score)\n"
   ]
  },
  {
   "cell_type": "code",
   "execution_count": 11,
   "metadata": {},
   "outputs": [],
   "source": [
    "def show():\n",
    "    for line in position:\n",
    "        print(line)"
   ]
  },
  {
   "cell_type": "code",
   "execution_count": 35,
   "metadata": {},
   "outputs": [
    {
     "name": "stdout",
     "output_type": "stream",
     "text": [
      "[1, 0, 3, 4]\n",
      "[5, 6, 0, 8]\n",
      "[0, 10, 11, 12]\n",
      "0 0 4 3\n",
      "0 1 4 3\n",
      "0 2 4 3\n",
      "0 3 4 3\n",
      "1 0 4 3\n",
      "1 1 4 3\n",
      "1 2 4 3\n",
      "1 3 4 3\n",
      "2 0 4 3\n",
      "2 1 4 3\n",
      "2 2 4 3\n",
      "2 3 4 3\n",
      "[0, 0, 0, 4]\n",
      "[1, 6, 3, 8]\n",
      "[5, 10, 11, 12]\n"
     ]
    }
   ],
   "source": [
    "show()\n",
    "fall()\n",
    "show()"
   ]
  },
  {
   "cell_type": "code",
   "execution_count": 33,
   "metadata": {},
   "outputs": [
    {
     "data": {
      "text/plain": [
       "[1, 2, 3, 0]"
      ]
     },
     "execution_count": 33,
     "metadata": {},
     "output_type": "execute_result"
    }
   ],
   "source": [
    "move_to_left([0,1,2,3])"
   ]
  },
  {
   "cell_type": "code",
   "execution_count": 36,
   "metadata": {},
   "outputs": [
    {
     "name": "stdout",
     "output_type": "stream",
     "text": [
      "[1, 2, 3, 0]\n",
      "[1, 1, 3, 4]\n",
      "[2, 3, 4, 4]\n",
      "[1, 2, 3, 0]\n",
      "[0, 0, 3, 4]\n",
      "[2, 3, 0, 0]\n",
      "10\n"
     ]
    }
   ],
   "source": [
    "k=2\n",
    "position=[\n",
    "    [1,2,3,0],\n",
    "    [1,1,3,4],\n",
    "    [2,3,4,4]\n",
    "]\n",
    "show()\n",
    "position,score=banish()\n",
    "show()\n",
    "print(score)"
   ]
  },
  {
   "cell_type": "code",
   "execution_count": 37,
   "metadata": {},
   "outputs": [],
   "source": [
    "def rotate(t):  # positionをtが一なら右に傾け、違えばもとに戻す\n",
    "    global position\n",
    "    if t:  # 右に傾ける\n",
    "        result = [[0] * h for i in range(w)]\n",
    "        show()\n",
    "        for i in range(h):\n",
    "            for j in range(w):\n",
    "                print(w, h, j, h - i - 1, i, j)\n",
    "                result[j][h - 1 - i] = position[i][j]\n",
    "        position = result\n",
    "h=4\n",
    "w=4\n",
    "position=[\n",
    "    [3,4,1,3],\n",
    "    [4,1,2,1],\n",
    "    [1,4,2,4],\n",
    "    [2,3,1,2]\n",
    "]"
   ]
  },
  {
   "cell_type": "code",
   "execution_count": 53,
   "metadata": {},
   "outputs": [
    {
     "name": "stdout",
     "output_type": "stream",
     "text": [
      "[[3, 4, 1, 3], [4, 1, 2, 1], [1, 4, 2, 4], [2, 3, 1, 2], [3, 4, 1, 3], [4, 1, 2, 1], [1, 4, 2, 4], [2, 3, 1, 2], [3, 4, 1, 3], [4, 1, 2, 1], [1, 4, 2, 4], [2, 3, 1, 2], [3, 4, 1, 3], [4, 1, 2, 1], [1, 4, 2, 4], [2, 3, 1, 2], [3, 4, 1, 3], [4, 1, 2, 1], [1, 4, 2, 4], [2, 3, 1, 2], [3, 4, 1, 3], [4, 1, 2, 1], [1, 4, 2, 4], [2, 3, 1, 2], [3, 4, 1, 3], [4, 1, 2, 1], [1, 4, 2, 4], [2, 3, 1, 2], [3, 4, 1, 3], [4, 1, 2, 1], [1, 4, 2, 4], [2, 3, 1, 2], [3, 4, 1, 3], [4, 1, 2, 1], [1, 4, 2, 4], [2, 3, 1, 2], [3, 4, 1, 3], [4, 1, 2, 1], [1, 4, 2, 4], [2, 3, 1, 2], [3, 4, 1, 3], [4, 1, 2, 1], [1, 4, 2, 4], [2, 3, 1, 2], [3, 4, 1, 3], [4, 1, 2, 1], [1, 4, 2, 4], [2, 3, 1, 2], [3, 4, 1, 3], [4, 1, 2, 1], [1, 4, 2, 4], [2, 3, 1, 2], [3, 4, 1, 3], [4, 1, 2, 1], [1, 4, 2, 4], [2, 3, 1, 2], [3, 4, 1, 3], [4, 1, 2, 1], [1, 4, 2, 4], [2, 3, 1, 2], [3, 4, 1, 3], [4, 1, 2, 1], [1, 4, 2, 4], [2, 3, 1, 2]]\n"
     ]
    },
    {
     "ename": "TypeError",
     "evalue": "'int' object does not support item assignment",
     "output_type": "error",
     "traceback": [
      "\u001b[0;31m---------------------------------------------------------------------------\u001b[0m",
      "\u001b[0;31mTypeError\u001b[0m                                 Traceback (most recent call last)",
      "\u001b[1;32m/Users/shinyyama/Documents/python/kyoupro/unsolved/100問/test/test.ipynb Cell 42\u001b[0m in \u001b[0;36m<cell line: 79>\u001b[0;34m()\u001b[0m\n\u001b[1;32m     <a href='vscode-notebook-cell:/Users/shinyyama/Documents/python/kyoupro/unsolved/100%E5%95%8F/test/test.ipynb#ch0000041?line=82'>83</a>\u001b[0m c\u001b[39m+\u001b[39m\u001b[39m=\u001b[39m\u001b[39m1\u001b[39m\n\u001b[1;32m     <a href='vscode-notebook-cell:/Users/shinyyama/Documents/python/kyoupro/unsolved/100%E5%95%8F/test/test.ipynb#ch0000041?line=83'>84</a>\u001b[0m \u001b[39mprint\u001b[39m(save_data)\n\u001b[0;32m---> <a href='vscode-notebook-cell:/Users/shinyyama/Documents/python/kyoupro/unsolved/100%E5%95%8F/test/test.ipynb#ch0000041?line=84'>85</a>\u001b[0m position[i][j] \u001b[39m=\u001b[39m \u001b[39m0\u001b[39m  \u001b[39m# 最初のドミノを倒す\u001b[39;00m\n\u001b[1;32m     <a href='vscode-notebook-cell:/Users/shinyyama/Documents/python/kyoupro/unsolved/100%E5%95%8F/test/test.ipynb#ch0000041?line=85'>86</a>\u001b[0m counter \u001b[39m=\u001b[39m \u001b[39m1\u001b[39m\n\u001b[1;32m     <a href='vscode-notebook-cell:/Users/shinyyama/Documents/python/kyoupro/unsolved/100%E5%95%8F/test/test.ipynb#ch0000041?line=86'>87</a>\u001b[0m \u001b[39m# show()\u001b[39;00m\n",
      "\u001b[0;31mTypeError\u001b[0m: 'int' object does not support item assignment"
     ]
    }
   ],
   "source": [
    "h, w, k = 4,4,2\n",
    "save_data=list([\n",
    "    [3,4,1,3],\n",
    "    [4,1,2,1],\n",
    "    [1,4,2,4],\n",
    "    [2,3,1,2]\n",
    "]*h*w)\n",
    "position =[\n",
    "    [3,4,1,3],\n",
    "    [4,1,2,1],\n",
    "    [1,4,2,4],\n",
    "    [2,3,1,2]\n",
    "]\n",
    "\n",
    "\n",
    "def show(position):\n",
    "    for line in position:\n",
    "        print(line)\n",
    "    print()\n",
    "\n",
    "\n",
    "def rotate(t,position):  # positionをtが一なら右に傾け、違えばもとに戻す\n",
    "    # global position\n",
    "    if t:  # 右に傾ける\n",
    "        result = [[0] * h for i in range(w)]\n",
    "        # show()\n",
    "        for i in range(h):\n",
    "            for j in range(w):\n",
    "                # print(w, h, j, h - i - 1, i, j)\n",
    "                result[j][h - 1 - i] = position[i][j]\n",
    "        position = result\n",
    "    else:  # もとに戻す\n",
    "        result = [[0] * w for i in range(h)]\n",
    "        for i in range(w):\n",
    "            for j in range(h):\n",
    "                result[h - 1 - j][i] = position[i][j]\n",
    "\n",
    "        position = result\n",
    "\n",
    "\n",
    "def move_to_left(some_list):\n",
    "    result = [0 for i in range(len(some_list))]\n",
    "    index_counter = 0\n",
    "    for num in some_list:\n",
    "        if num:\n",
    "            result[index_counter] = num\n",
    "            index_counter += 1\n",
    "    return result\n",
    "\n",
    "\n",
    "def fall(position):\n",
    "    # 各列についてどんどん落下させていく\n",
    "    # そのために右に傾けてから左に詰めていく\n",
    "    # global position\n",
    "    rotate(1,position)\n",
    "    for i in range(w):  # i行目を左詰めしていく\n",
    "        position[i] = move_to_left(position[i])\n",
    "    rotate(0,position)  # 左に傾けて元通り\n",
    "\n",
    "\n",
    "def banish(position):  # kつ以上並んだ箇所を特定して削除,出力には結果と点数\n",
    "    # global position\n",
    "    result = position.copy()\n",
    "    score = 0\n",
    "    if k <= w:  # 横で消す\n",
    "        for i in range(h):  # i行目を考える\n",
    "            row = position[i]\n",
    "            for length in reversed(range(k, w + 1)):  # 長さがw-kまでで該当する箇所を削除していく\n",
    "                for start in range(w - length + 1):\n",
    "                    tmp = list(set(row[start : start + length]))\n",
    "                    if len(tmp) == 1 and (0 not in tmp):\n",
    "                        score += length * tmp[0]\n",
    "                        for j in range(length):\n",
    "                            result[i][start + j] = 0\n",
    "    return (result, score)\n",
    "\n",
    "max_score = 0\n",
    "c=0\n",
    "for i in range(h):\n",
    "    for j in range(w):\n",
    "        tot_score = 0\n",
    "        position = save_data[c]  # 初期化\n",
    "        c+=1\n",
    "        print(save_data)\n",
    "        position[i][j] = 0  # 最初のドミノを倒す\n",
    "        counter = 1\n",
    "        # show()\n",
    "        fall(position)\n",
    "        # show()\n",
    "        position, score = banish(position)\n",
    "        # show()\n",
    "        tot_score += score\n",
    "        counter *= 2\n",
    "        while score:  # 前の段階で消えた\n",
    "            fall(position)\n",
    "            # show()\n",
    "            position, score = banish(position)\n",
    "            # show()\n",
    "            tot_score += score*counter\n",
    "            print(tot_score)\n",
    "            counter *= 2\n",
    "        print(tot_score)\n",
    "        max_score=max(tot_score,max_score)\n",
    "        \n"
   ]
  },
  {
   "cell_type": "code",
   "execution_count": 49,
   "metadata": {},
   "outputs": [
    {
     "name": "stdout",
     "output_type": "stream",
     "text": [
      "[1, 2, 3]\n"
     ]
    }
   ],
   "source": [
    "a=[1,2,3]\n",
    "b=a.copy()\n",
    "a=b.copy()\n",
    "a[0]=0\n",
    "print(b)"
   ]
  },
  {
   "cell_type": "code",
   "execution_count": 54,
   "metadata": {},
   "outputs": [
    {
     "name": "stdout",
     "output_type": "stream",
     "text": [
      "-1\n"
     ]
    }
   ],
   "source": [
    "if -1:\n",
    "    print(-1)"
   ]
  },
  {
   "cell_type": "code",
   "execution_count": 2,
   "metadata": {},
   "outputs": [
    {
     "name": "stdout",
     "output_type": "stream",
     "text": [
      "[0, 1, 1, 1, 0] [1, 3, 1]\n",
      "5\n"
     ]
    }
   ],
   "source": [
    "# -*- coding: utf-8 -*-\n",
    "# https://atcoder.jp/contests/joi2013ho/tasks/joi2013ho1\n",
    "import sys\n",
    "\n",
    "n=5\n",
    "lights = [1,1,0,1,1]\n",
    "for i in range(0, n, 2):\n",
    "    lights[i] = (lights[i] + 1) % 2\n",
    "# あとはlightsを1か０に統一すればよろしい\n",
    "line = []  # 連続した長さを放り込んでいく\n",
    "prev_num = -1\n",
    "for num in lights:\n",
    "    if num != prev_num:\n",
    "        line.append(1)\n",
    "        prev_num = num\n",
    "    else:\n",
    "        line[-1] += 1\n",
    "        prev_num = num\n",
    "# 連続した部分を任意に一つ連結する\n",
    "max_num = 0\n",
    "print(lights,line)\n",
    "if len(line) < 3:\n",
    "    print(len(lights))\n",
    "    exit()\n",
    "for i in range(len(line) - 2):\n",
    "    score = line[i] + line[i + 1] + line[i + 2]\n",
    "    max_num = max(max_num, score)\n",
    "print(max_num)\n"
   ]
  },
  {
   "cell_type": "code",
   "execution_count": 4,
   "metadata": {},
   "outputs": [
    {
     "name": "stdout",
     "output_type": "stream",
     "text": [
      "[]\n"
     ]
    }
   ],
   "source": [
    "print(list(range(1,1)))"
   ]
  },
  {
   "cell_type": "code",
   "execution_count": 6,
   "metadata": {},
   "outputs": [
    {
     "name": "stdout",
     "output_type": "stream",
     "text": [
      "j [['JJO', 'JIJOI'], ['JJO', 'JIJOI']]\n"
     ]
    }
   ],
   "source": [
    "get_name_by_id = [[[\"\"] * 2] * 2 for j in range(2)]\n",
    "for j in range(2):\n",
    "    for o in range(2):\n",
    "        for i in range(2):\n",
    "            if j:\n",
    "                get_name_by_id[j][o][i] += \"J\"\n",
    "            if o:\n",
    "                get_name_by_id[j][o][i] += \"O\"\n",
    "            if i:\n",
    "                get_name_by_id[j][o][i] += \"I\"\n",
    "print(\"j\",get_name_by_id[1])"
   ]
  },
  {
   "cell_type": "code",
   "execution_count": 8,
   "metadata": {},
   "outputs": [
    {
     "name": "stdout",
     "output_type": "stream",
     "text": [
      "[[['', 'I'], ['O', 'OI']], [['J', 'JI'], ['JO', 'JOI']]]\n",
      "I I\n",
      "OI I\n",
      "JI I\n",
      "JOI I\n",
      "I OI\n",
      "O OI\n",
      "OI OI\n",
      "JI OI\n",
      "JO OI\n",
      "JOI OI\n",
      "I JI\n",
      "OI JI\n",
      "J JI\n",
      "JI JI\n",
      "JO JI\n",
      "JOI JI\n",
      "I JOI\n",
      "O JOI\n",
      "OI JOI\n",
      "J JOI\n",
      "JI JOI\n",
      "JO JOI\n",
      "JOI JOI\n",
      "26\n",
      "[[[[0, 0], [1, 1]], [[0, 0], [1, 1]]], [[[0, 6], [0, 6]], [[0, 7], [0, 7]]]]\n"
     ]
    }
   ],
   "source": [
    "# -*- coding: utf-8 -*-\n",
    "# https://atcoder.jp/contests/joi2014yo/tasks/joi2014yo_d\n",
    "import sys\n",
    "\n",
    "input = sys.stdin.readline\n",
    "# どうせまたdpでしょ、、、\n",
    "# 今回はi日目での出席の取り方が、i-1日目の出席者に左右される\n",
    "n = 2\n",
    "presidents = [\"O\",\"I\"]\n",
    "dp = []  # i成分はi日目までのスケジュールの全通りを表していている,ただしJ,O,Iが出席したかどうかで場合分けしてj,k,l成分に格納する\n",
    "# 初日は手入力\n",
    "president0 = presidents[0]\n",
    "result = [[[0] * 2 for o in range(2)] for j in range(2)]\n",
    "get_name_by_id = [[[\"\"] * 2 for o in range(2)] for j in range(2)]\n",
    "for j in range(2):\n",
    "    for o in range(2):\n",
    "        for i in range(2):\n",
    "            if j:\n",
    "                get_name_by_id[j][o][i] += \"J\"\n",
    "            if o:\n",
    "                get_name_by_id[j][o][i] += \"O\"\n",
    "            if i:\n",
    "                get_name_by_id[j][o][i] += \"I\"\n",
    "print(get_name_by_id)\n",
    "if president0 == \"J\":  # J君が責任者で、ioの出席は任意\n",
    "    for o in range(2):\n",
    "        for i in range(2):\n",
    "            result[1][o][i] = 1\n",
    "elif president0 == \"O\":\n",
    "    for j in range(2):\n",
    "        for i in range(2):\n",
    "            result[j][1][i] = 1\n",
    "else:\n",
    "    for j in range(2):\n",
    "        for o in range(2):\n",
    "            result[j][o][1] = 1\n",
    "dp.append(result)\n",
    "\n",
    "for l in range(n - 1):  # i日目の情報をもとにi+1日目を考える\n",
    "    president = presidents[l + 1]  # 以下presidentを含む要素を全て足していく\n",
    "    prev_day = dp[-1]\n",
    "    tmp = [[[0] * 2] * 2 for i in range(2)]\n",
    "    for j in range(2):\n",
    "        for o in range(2):\n",
    "            for i in range(2):\n",
    "                name = get_name_by_id[j][o][i]  # 当日の出席\n",
    "                if president in name:  # presidentが出席時のみ、dp[i+1][j][o][i]を計算していく\n",
    "                    for prev_j in range(2):\n",
    "                        for prev_o in range(2):\n",
    "                            for prev_i in range(2):\n",
    "                                if (\n",
    "                                    (j * prev_j) + (o * prev_o) + (i * prev_i)\n",
    "                                ):  # 鍵の受け渡しが可能だった\n",
    "                                    tmp[j][o][i] += prev_day[prev_j][prev_o][prev_i]\n",
    "                                    print(\n",
    "                                        get_name_by_id[prev_j][prev_o][prev_i],\n",
    "                                        get_name_by_id[j][o][i],\n",
    "                                    )\n",
    "    dp.append(tmp)\n",
    "totnum = 0\n",
    "for j in range(2):\n",
    "    for o in range(2):\n",
    "        for i in range(2):\n",
    "            totnum += dp[-1][j][o][i]\n",
    "print(totnum)\n",
    "print(dp)\n"
   ]
  },
  {
   "cell_type": "code",
   "execution_count": 11,
   "metadata": {},
   "outputs": [
    {
     "name": "stdout",
     "output_type": "stream",
     "text": [
      " 0\n",
      "I 0\n",
      "O 1\n",
      "OI 1\n",
      "J 0\n",
      "JI 0\n",
      "JO 1\n",
      "JOI 1\n",
      " 0\n",
      "I 6\n",
      "O 0\n",
      "OI 6\n",
      "J 0\n",
      "JI 7\n",
      "JO 0\n",
      "JOI 7\n"
     ]
    }
   ],
   "source": [
    "for j in range(2):\n",
    "    for o in range(2):\n",
    "        for i in range(2):\n",
    "            print(get_name_by_id[j][o][i],dp[0][j][o][i])\n",
    "for j in range(2):\n",
    "    for o in range(2):\n",
    "        for i in range(2):\n",
    "            print(get_name_by_id[j][o][i],dp[-1][j][o][i])"
   ]
  },
  {
   "cell_type": "code",
   "execution_count": 14,
   "metadata": {},
   "outputs": [
    {
     "data": {
      "text/plain": [
       "False"
      ]
     },
     "execution_count": 14,
     "metadata": {},
     "output_type": "execute_result"
    }
   ],
   "source": [
    "\"I\" in \"JO\""
   ]
  },
  {
   "cell_type": "code",
   "execution_count": 17,
   "metadata": {},
   "outputs": [
    {
     "data": {
      "text/plain": [
       "['0', '0']"
      ]
     },
     "execution_count": 17,
     "metadata": {},
     "output_type": "execute_result"
    }
   ],
   "source": [
    "str(float(0)).split(\".\")"
   ]
  }
 ],
 "metadata": {
  "kernelspec": {
   "display_name": "Python 3.9.13 64-bit",
   "language": "python",
   "name": "python3"
  },
  "language_info": {
   "codemirror_mode": {
    "name": "ipython",
    "version": 3
   },
   "file_extension": ".py",
   "mimetype": "text/x-python",
   "name": "python",
   "nbconvert_exporter": "python",
   "pygments_lexer": "ipython3",
   "version": "3.9.13"
  },
  "orig_nbformat": 4,
  "vscode": {
   "interpreter": {
    "hash": "b0fa6594d8f4cbf19f97940f81e996739fb7646882a419484c72d19e05852a7e"
   }
  }
 },
 "nbformat": 4,
 "nbformat_minor": 2
}
