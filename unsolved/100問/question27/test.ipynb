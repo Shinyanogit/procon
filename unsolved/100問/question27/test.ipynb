{
 "cells": [
  {
   "cell_type": "code",
   "execution_count": 2,
   "metadata": {},
   "outputs": [
    {
     "name": "stdout",
     "output_type": "stream",
     "text": [
      "[[0, 0, 0, 0, 0, 0, 0], [0, 0], [0, 0], [0, 0], [0, 0, 0, 0, 0, 0, 0]]\n",
      "[[0, 0, 0, 0, 0, 0, 0], [0, 0], [0, 0], [0, 0], [0, 0, 0, 0, 0, 0, 0]]\n",
      "[[0, 0, 0, 0, 0, 0, 0], [0, 0], [0, 0], [0, 0], [0, 0, 0, 0, 0, 0, 0]]\n",
      "[[0, 0, 0, 0, 0, 0, 0], [0, 0], [0, 0], [0, 0], [0, 0, 0, 0, 0, 0, 0]]\n",
      "[[0, 0, 0, 0, 0, 0, 0], [0, 0], [0, 0], [0, 0], [0, 0, 0, 0, 0, 0, 0]]\n",
      "\n"
     ]
    }
   ],
   "source": [
    "# -*- coding: utf-8 -*-\n",
    "# https://atcoder.jp/contests/joi2009yo/tasks/joi2009yo_d\n",
    "import sys\n",
    "\n",
    "input = sys.stdin.readline\n",
    "\n",
    "\n",
    "def show(a):\n",
    "    for line in a:\n",
    "        print(a)\n",
    "    print()\n",
    "\n",
    "\n",
    "# まず周囲を0で囲う\n",
    "# そのあと深さ優先探索していく\n",
    "m = 5\n",
    "n = 3\n",
    "raw_ice_condition = [[0 for i in range(m + 2)]]\n",
    "for i in range(n):\n",
    "    ice = [0] + list(map(int, input().split())) + [0]\n",
    "    raw_ice_condition.append(ice)\n",
    "raw_ice_condition.append([0 for i in range(m + 2)])\n",
    "show(raw_ice_condition)"
   ]
  },
  {
   "cell_type": "code",
   "execution_count": 5,
   "metadata": {},
   "outputs": [
    {
     "name": "stdout",
     "output_type": "stream",
     "text": [
      "[1, 2] [[1, 2], [1, 2]]\n"
     ]
    }
   ],
   "source": [
    "a=[1,2]\n",
    "b=[a for i in range(2)]\n",
    "c=a.copy()\n",
    "c[0]=999\n",
    "print(a,b)"
   ]
  },
  {
   "cell_type": "code",
   "execution_count": 8,
   "metadata": {},
   "outputs": [
    {
     "name": "stdout",
     "output_type": "stream",
     "text": [
      "[[1, 0, 1, 0], [0, 1, 0, 1], [1, 0, 1, 0]]\n"
     ]
    }
   ],
   "source": [
    "test=[[1,0,1,0],\n",
    "      [0,1,0,1],\n",
    "      [1,0,1,0]]\n",
    "n=1\n",
    "m=2\n",
    "def copy2d(twod_list):\n",
    "    save_data = [[0 for i in range(m + 2)] for j in range(n + 2)]\n",
    "    for i in range(n + 2):\n",
    "        for j in range(m + 2):\n",
    "            if twod_list[i][j]:\n",
    "                save_data[i][j] = 1\n",
    "    return save_data\n",
    "print(copy2d(test))"
   ]
  },
  {
   "cell_type": "code",
   "execution_count": 10,
   "metadata": {},
   "outputs": [
    {
     "data": {
      "text/plain": [
       "2"
      ]
     },
     "execution_count": 10,
     "metadata": {},
     "output_type": "execute_result"
    }
   ],
   "source": [
    "test=[1,2,3,3]\n",
    "test.count(3)"
   ]
  },
  {
   "cell_type": "code",
   "execution_count": 1,
   "metadata": {},
   "outputs": [],
   "source": [
    "test_queens=list(range(8))\n",
    "rc_test=[]"
   ]
  },
  {
   "cell_type": "code",
   "execution_count": 12,
   "metadata": {},
   "outputs": [],
   "source": [
    "def check(queens):  # 斜めの効きを一方向について検討\n",
    "    distance_list = []\n",
    "    for i, j in enumerate(queens):\n",
    "        if i + j not in distance_list:\n",
    "            distance_list.append(i + j)\n",
    "        else:\n",
    "            return False\n",
    "    return True\n",
    "\n",
    "\n",
    "def rotate(queens):  # 右に回転\n",
    "    result = [0 for i in range(8)]\n",
    "    for i, j in enumerate(queens):\n",
    "        result[j] = 7 - i\n",
    "    return result\n",
    "\n",
    "\n",
    "def check4(queens):  # 角からの距離を四角からを検討する\n",
    "    queens_to_check = queens.copy()\n",
    "    for i in range(4):\n",
    "        show(queens_to_check)\n",
    "        if check(queens_to_check):\n",
    "            queens_to_check = rotate(queens_to_check)\n",
    "        else:\n",
    "            return False\n",
    "    return True\n",
    "\n",
    "\n",
    "def show(queens):\n",
    "    for column in queens:\n",
    "        text = \"\"\n",
    "        for i in range(column):\n",
    "            text += \".\"\n",
    "        text += \"Q\"\n",
    "        for i in range(7 - column):\n",
    "            text += \".\"\n",
    "        print(text)\n"
   ]
  },
  {
   "cell_type": "code",
   "execution_count": 13,
   "metadata": {},
   "outputs": [
    {
     "name": "stdout",
     "output_type": "stream",
     "text": [
      "Q.......\n",
      ".Q......\n",
      "..Q.....\n",
      "...Q....\n",
      "....Q...\n",
      ".....Q..\n",
      "......Q.\n",
      ".......Q\n",
      ".......Q\n",
      "......Q.\n",
      ".....Q..\n",
      "....Q...\n",
      "...Q....\n",
      "..Q.....\n",
      ".Q......\n",
      "Q.......\n"
     ]
    },
    {
     "data": {
      "text/plain": [
       "False"
      ]
     },
     "execution_count": 13,
     "metadata": {},
     "output_type": "execute_result"
    }
   ],
   "source": [
    "check4(test_queens)"
   ]
  }
 ],
 "metadata": {
  "kernelspec": {
   "display_name": "Python 3.9.13 64-bit",
   "language": "python",
   "name": "python3"
  },
  "language_info": {
   "codemirror_mode": {
    "name": "ipython",
    "version": 3
   },
   "file_extension": ".py",
   "mimetype": "text/x-python",
   "name": "python",
   "nbconvert_exporter": "python",
   "pygments_lexer": "ipython3",
   "version": "3.9.13"
  },
  "orig_nbformat": 4,
  "vscode": {
   "interpreter": {
    "hash": "b0fa6594d8f4cbf19f97940f81e996739fb7646882a419484c72d19e05852a7e"
   }
  }
 },
 "nbformat": 4,
 "nbformat_minor": 2
}
